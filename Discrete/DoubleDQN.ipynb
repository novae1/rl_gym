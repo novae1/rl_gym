{
 "cells": [
  {
   "cell_type": "markdown",
   "metadata": {},
   "source": [
    "# DoubleDQN"
   ]
  },
  {
   "cell_type": "markdown",
   "metadata": {},
   "source": [
    "Implementation of DoubleDQN, RL algorithm introduced in \"Deep Reinforcement Learning with Double Q-learning\", https://arxiv.org/abs/1509.06461"
   ]
  },
  {
   "cell_type": "code",
   "execution_count": 167,
   "metadata": {},
   "outputs": [],
   "source": [
    "import torch\n",
    "from torch import nn, optim, Tensor\n",
    "from torch.utils.data import Dataset, DataLoader\n",
    "from torch.nn.utils import clip_grad_norm_\n",
    "\n",
    "import numpy as np\n",
    "import random\n",
    "import math\n",
    "import time\n",
    "from collections import deque, namedtuple\n",
    "\n",
    "import matplotlib.pyplot as plt\n",
    "import matplotlib\n",
    "from IPython.display import clear_output\n",
    "\n",
    "import gymnasium as gym\n",
    "from gymnasium import Env"
   ]
  },
  {
   "cell_type": "markdown",
   "metadata": {},
   "source": [
    "### Hyperparameters"
   ]
  },
  {
   "cell_type": "code",
   "execution_count": 168,
   "metadata": {},
   "outputs": [],
   "source": [
    "env = gym.make(\n",
    "    \"LunarLander-v3\",\n",
    "    continuous=False,\n",
    "    gravity=-10.0,\n",
    "    enable_wind=False,\n",
    "    wind_power=15.0,\n",
    "    turbulence_power=1.5,\n",
    ")\n",
    "\n",
    "N_OBSERVATIONS = env.observation_space.shape[0]\n",
    "N_ACTIONS = env.action_space.n\n",
    "\n",
    "# Hyperparameters\n",
    "eps_start = 1.0\n",
    "eps_end = 0.1\n",
    "eps_decay = 10_000 # Number of steps it takes for eps to decay\n",
    "n_episodes = 300\n",
    "gamma = 0.99\n",
    "tau = 1e-2\n",
    "capacity = 10_000\n",
    "batch_size = 64\n",
    "learning_rate = 3e-4\n",
    "max_grad_norm = 0.5\n",
    "layer_dim = 128"
   ]
  },
  {
   "cell_type": "markdown",
   "metadata": {},
   "source": [
    "### Model"
   ]
  },
  {
   "cell_type": "code",
   "execution_count": 169,
   "metadata": {},
   "outputs": [],
   "source": [
    "class DoubleQNetwork(nn.Module):\n",
    "    def __init__(self):\n",
    "        super().__init__()\n",
    "        self.network = nn.Sequential(\n",
    "            nn.Linear(N_OBSERVATIONS, layer_dim),\n",
    "            nn.ReLU(),\n",
    "            nn.Linear(layer_dim, layer_dim),\n",
    "            nn.ReLU(),\n",
    "            nn.Linear(layer_dim, N_ACTIONS)\n",
    "        )\n",
    "\n",
    "    def forward(self, x):\n",
    "        action_logits = self.network(x)\n",
    "        return action_logits"
   ]
  },
  {
   "cell_type": "markdown",
   "metadata": {},
   "source": []
  },
  {
   "cell_type": "markdown",
   "metadata": {},
   "source": [
    "### Select action"
   ]
  },
  {
   "cell_type": "code",
   "execution_count": 170,
   "metadata": {},
   "outputs": [],
   "source": [
    "def select_action(model: DoubleQNetwork, env: Env, state: Tensor, steps_done: int) -> int:\n",
    "\t# Eps decays linearly based on steps_done up to eps_end\n",
    "\teps = max(eps_end, eps_start - steps_done * (eps_start - eps_end) / eps_decay)\n",
    "\tsample = random.random()\n",
    "\n",
    "\tif sample <= eps:\n",
    "\t\t# Pick action randomly\n",
    "\t\taction = env.action_space.sample()\n",
    "\telse:\n",
    "\t\t# Pick action based on model's prediction\n",
    "\t\twith torch.no_grad():\n",
    "\t\t\taction_logits = model(state)\n",
    "\t\taction = torch.argmax(action_logits).item()\n",
    "\t\n",
    "\treturn action"
   ]
  },
  {
   "cell_type": "markdown",
   "metadata": {},
   "source": [
    "### Test model"
   ]
  },
  {
   "cell_type": "code",
   "execution_count": 171,
   "metadata": {},
   "outputs": [],
   "source": [
    "def test_model(model):\n",
    "\t# Initialize environment\n",
    "\tenv = gym.make(\n",
    "\t\t\"LunarLander-v3\",\n",
    "\t\tcontinuous=False,\n",
    "\t\tgravity=-10.0,\n",
    "\t\tenable_wind=False,\n",
    "\t\twind_power=15.0,\n",
    "\t\tturbulence_power=1.5,\n",
    "\t\trender_mode='human'\n",
    "\t)\n",
    "\tstate, _ = env.reset()\n",
    "\tstate = torch.from_numpy(state)\n",
    "\tterminated, truncated = False, False\n",
    "    \n",
    "\twhile not (terminated or truncated):\n",
    "\t\taction = select_action(model, env, state, steps_done=eps_decay)\n",
    "\t\tnext_state, _, terminated, truncated, _ = env.step(action)\n",
    "\t\tstate = torch.from_numpy(next_state)\n",
    "\n",
    "\tenv.close()"
   ]
  },
  {
   "cell_type": "markdown",
   "metadata": {},
   "source": [
    "### Soft update"
   ]
  },
  {
   "cell_type": "code",
   "execution_count": 172,
   "metadata": {},
   "outputs": [],
   "source": [
    "def soft_update(online_network, target_network, tau):\n",
    "\t# Perform soft update in target network\n",
    "\tfor target_param, online_param in zip(target_network.parameters(), online_network.parameters()):\n",
    "\t\ttarget_param.data.copy_(tau * online_param.data + (1.0 - tau) * target_param.data)"
   ]
  },
  {
   "cell_type": "markdown",
   "metadata": {},
   "source": [
    "### Replay memory"
   ]
  },
  {
   "cell_type": "code",
   "execution_count": 173,
   "metadata": {},
   "outputs": [],
   "source": [
    "Transition = namedtuple('Transition', ['state', 'action', 'reward', 'next_state', 'terminated'])\n",
    "\n",
    "class ReplayMemory():\n",
    "\tdef __init__(self, capacity):\n",
    "\t\tself.memory = deque(maxlen=capacity)\n",
    "\n",
    "\tdef push(self, state: Tensor, action: int, reward: float, next_state: Tensor, terminated: bool):\n",
    "\t\ttransition = Transition(state, action, reward, next_state, terminated)\n",
    "\t\tself.memory.append(transition)\n",
    "\n",
    "\tdef __len__(self):\n",
    "\t\treturn len(self.memory)\n",
    "\t\n",
    "\tdef get_batch(self, batch_size):\n",
    "\t\t# Sample transitions\n",
    "\t\tsample_size = min(batch_size, len(self))\n",
    "\t\ttransitions = random.sample(self.memory, sample_size)\n",
    "\n",
    "\t\t# Create batches\n",
    "\t\tstate_batch = torch.stack([t.state for t in transitions])\n",
    "\t\taction_batch = torch.tensor([t.action for t in transitions])\n",
    "\t\treward_batch = torch.tensor([t.reward for t in transitions])\n",
    "\t\tnext_state_batch = torch.stack([t.next_state for t in transitions])\n",
    "\t\tterminated_batch = torch.tensor([t.terminated for t in transitions])\n",
    "\n",
    "\t\treturn state_batch, action_batch, reward_batch, next_state_batch, terminated_batch"
   ]
  },
  {
   "cell_type": "markdown",
   "metadata": {},
   "source": [
    "### Train loop"
   ]
  },
  {
   "cell_type": "code",
   "execution_count": 174,
   "metadata": {},
   "outputs": [],
   "source": [
    "def train_loop(online_network, env, loss_fn, optimizer, n_episodes, batch_size, max_grad_norm, capacity, gamma, tau, total_steps_done):\n",
    "    # List with total episode rewards\n",
    "\tepisode_rewards_list = []\n",
    "\n",
    "\t# Initialize number of steps done\n",
    "\tsteps_done = total_steps_done\n",
    "\t\n",
    "\t# Create replay memory\n",
    "\treplay_memory = ReplayMemory(capacity)\n",
    "\n",
    "\t# Create online and target network and load model weights\n",
    "\ttarget_network = DoubleQNetwork()\n",
    "\ttarget_network.load_state_dict(online_network.state_dict())\n",
    "\n",
    "\tfor episode in range(n_episodes):\n",
    "\t\t# Initialize environment\n",
    "\t\tstate, _ = env.reset()\n",
    "\t\tstate = torch.from_numpy(state)\n",
    "\t\tterminated, truncated = False, False\n",
    "\t\tepisode_reward = 0.\n",
    "\n",
    "\t\twhile not (terminated or truncated):\n",
    "\t\t\t# Select and perform action\n",
    "\t\t\taction = select_action(online_network, env, state, steps_done)\n",
    "\t\t\tsteps_done += 1\n",
    "\t\t\tnext_state, reward, terminated, truncated, _ = env.step(action)\n",
    "\t\t\tnext_state = torch.from_numpy(next_state)\n",
    "\n",
    "\t\t\t# Update reward\n",
    "\t\t\tepisode_reward += reward\n",
    "\n",
    "\t\t\t# Store transition\n",
    "\t\t\treplay_memory.push(state, action, reward, next_state, terminated)\n",
    "\n",
    "\t\t\t# Update state\n",
    "\t\t\tstate = next_state\n",
    "\n",
    "\t\t\t# Only optimize if replay memory has enough transitions\n",
    "\t\t\tif len(replay_memory) >= batch_size:\n",
    "\t\t\t\t# Sample random batch of transitions\n",
    "\t\t\t\tstate_batch, action_batch, reward_batch, next_state_batch, terminated_batch = replay_memory.get_batch(batch_size)\n",
    "\n",
    "\t\t\t\t# Compute target\n",
    "\t\t\t\twith torch.no_grad():\n",
    "\t\t\t\t\tnext_action = torch.argmax(online_network(state_batch), dim=-1)\n",
    "\t\t\t\t\tnext_pred = target_network(next_state_batch)\n",
    "\t\t\t\t\tnext_reward_pred = next_pred[torch.arange(batch_size), next_action]\n",
    "\t\t\t\t\ttarget = reward_batch + (~terminated_batch) * gamma * next_reward_pred\n",
    "\n",
    "\t\t\t\t# Compute predictions\n",
    "\t\t\t\taction_logits = online_network(state_batch)\n",
    "\t\t\t\tpred = action_logits[torch.arange(batch_size), action_batch]\n",
    "\n",
    "\t\t\t\t# Optimize\n",
    "\t\t\t\tloss = loss_fn(target, pred)\n",
    "\t\t\t\tloss.backward()\n",
    "\t\t\t\tclip_grad_norm_(online_network.parameters(), max_grad_norm)\n",
    "\t\t\t\toptimizer.step()\n",
    "\t\t\t\toptimizer.zero_grad()\n",
    "\n",
    "\t\t\t\t# Update target network\n",
    "\t\t\t\tsoft_update(online_network, target_network, tau)\n",
    "\t\t\n",
    "\t\t# Print and store episode reward\n",
    "\t\tprint(f\"episode {episode}, reward: {episode_reward}\")\n",
    "\t\tepisode_rewards_list.append(episode_reward)\n",
    "\n",
    "\t\t# Stop if model achieved 500 reward in last 5 episodes\n",
    "\t\tif episode >= 10:\n",
    "\t\t\tstop_training = True\n",
    "\t\t\tfor i in range(1, 11):\n",
    "\t\t\t\tif episode_rewards_list[-i] < 200:\n",
    "\t\t\t\t\tstop_training = False\n",
    "\t\t\tif stop_training:\n",
    "\t\t\t\tbreak\n",
    "\t\n",
    "\treturn episode_rewards_list, steps_done\n"
   ]
  },
  {
   "cell_type": "markdown",
   "metadata": {},
   "source": [
    "### Train"
   ]
  },
  {
   "cell_type": "code",
   "execution_count": 175,
   "metadata": {},
   "outputs": [],
   "source": [
    "model = DoubleQNetwork()\n",
    "loss_fn = nn.SmoothL1Loss()\n",
    "optimizer = optim.Adam(model.parameters(), lr=learning_rate)"
   ]
  },
  {
   "cell_type": "code",
   "execution_count": 176,
   "metadata": {},
   "outputs": [
    {
     "name": "stdout",
     "output_type": "stream",
     "text": [
      "episode 0, reward: -122.22184855146965\n",
      "episode 1, reward: -354.13067175180925\n",
      "episode 2, reward: -95.00935695566379\n",
      "episode 3, reward: -206.8030588945038\n",
      "episode 4, reward: -303.08831907122567\n",
      "episode 5, reward: -112.51474952945603\n",
      "episode 6, reward: -145.46202190064798\n",
      "episode 7, reward: -253.53599969080565\n",
      "episode 8, reward: -137.5720781410964\n",
      "episode 9, reward: -211.2258806995044\n",
      "episode 10, reward: -69.68727762509988\n",
      "episode 11, reward: -134.57302598639882\n",
      "episode 12, reward: 23.675621675754243\n",
      "episode 13, reward: -99.00705708084438\n",
      "episode 14, reward: -193.2713968806861\n",
      "episode 15, reward: -171.9263926768784\n",
      "episode 16, reward: -268.34068509127394\n",
      "episode 17, reward: -98.13226221562087\n",
      "episode 18, reward: -88.1593735967087\n",
      "episode 19, reward: -69.017439848505\n",
      "episode 20, reward: -53.966293835072726\n",
      "episode 21, reward: -93.82478429446981\n",
      "episode 22, reward: -38.095731701783066\n",
      "episode 23, reward: -72.2900908360115\n",
      "episode 24, reward: -126.76778650892022\n",
      "episode 25, reward: -79.73325010206793\n",
      "episode 26, reward: -69.17232525424383\n",
      "episode 27, reward: -61.221562932815004\n",
      "episode 28, reward: -129.71601822460616\n",
      "episode 29, reward: -68.76367147953523\n",
      "episode 30, reward: -174.7881062578195\n",
      "episode 31, reward: -116.93377927992796\n",
      "episode 32, reward: -142.44552918430924\n",
      "episode 33, reward: -146.45132220282085\n",
      "episode 34, reward: -29.645853677639835\n",
      "episode 35, reward: -61.10497158637145\n",
      "episode 36, reward: -104.3641024382165\n",
      "episode 37, reward: -16.541189119624036\n",
      "episode 38, reward: -69.18960517469688\n",
      "episode 39, reward: -0.5066511952275476\n",
      "episode 40, reward: -15.939631060847788\n",
      "episode 41, reward: -54.41928105350671\n",
      "episode 42, reward: -28.967643187045823\n",
      "episode 43, reward: -64.30312968889197\n",
      "episode 44, reward: -71.63092983935272\n",
      "episode 45, reward: 17.03576798169999\n",
      "episode 46, reward: 0.0416333649620384\n",
      "episode 47, reward: -60.39306423058856\n",
      "episode 48, reward: -23.69454885270501\n",
      "episode 49, reward: -18.396698400779158\n",
      "episode 50, reward: -13.480747656123938\n",
      "episode 51, reward: -14.54967645239148\n",
      "episode 52, reward: -0.18993353700015803\n",
      "episode 53, reward: 46.953995739224325\n",
      "episode 54, reward: 1.3337579175742889\n",
      "episode 55, reward: 144.28566884898785\n",
      "episode 56, reward: -50.847566780077464\n",
      "episode 57, reward: -24.988816666666878\n",
      "episode 58, reward: -9.143112050937432\n",
      "episode 59, reward: -9.59321900822286\n",
      "episode 60, reward: -29.3576573646467\n",
      "episode 61, reward: 188.62137993470253\n",
      "episode 62, reward: 165.52658732232229\n",
      "episode 63, reward: 172.03311839061428\n",
      "episode 64, reward: 239.37385711887003\n",
      "episode 65, reward: 259.4326344609245\n",
      "episode 66, reward: 217.8200082505319\n",
      "episode 67, reward: 223.89422192374508\n",
      "episode 68, reward: 238.02103822223165\n",
      "episode 69, reward: 262.8507460407811\n",
      "episode 70, reward: 195.5665064947972\n",
      "episode 71, reward: 35.426106292264905\n",
      "episode 72, reward: -45.546950444886065\n",
      "episode 73, reward: -42.73740979683266\n",
      "episode 74, reward: -96.38589856590843\n",
      "episode 75, reward: -12.033015043467389\n",
      "episode 76, reward: 109.30810104868269\n",
      "episode 77, reward: 59.2115640301359\n",
      "episode 78, reward: 257.66829432106863\n",
      "episode 79, reward: 124.21106959359375\n",
      "episode 80, reward: 214.47064738137033\n",
      "episode 81, reward: -36.00390907121851\n",
      "episode 82, reward: 194.10689106084385\n",
      "episode 83, reward: 205.69325941329677\n",
      "episode 84, reward: 120.86339279157264\n",
      "episode 85, reward: 167.81328949420492\n",
      "episode 86, reward: 260.5563901014647\n",
      "episode 87, reward: 173.70496233115426\n",
      "episode 88, reward: -32.20141330398752\n",
      "episode 89, reward: 81.91411312107003\n",
      "episode 90, reward: 31.25442494007405\n",
      "episode 91, reward: 196.47260187171173\n",
      "episode 92, reward: 217.5669367734479\n",
      "episode 93, reward: -96.66645826491451\n",
      "episode 94, reward: 179.49461902452998\n",
      "episode 95, reward: 224.23194547694288\n",
      "episode 96, reward: 245.02648086880754\n",
      "episode 97, reward: 220.2969970639756\n",
      "episode 98, reward: 206.51619831015987\n",
      "episode 99, reward: 177.601911101426\n",
      "episode 100, reward: 235.57348955431246\n",
      "episode 101, reward: 42.78158985878841\n",
      "episode 102, reward: 195.07609082418037\n",
      "episode 103, reward: 219.31216841978824\n",
      "episode 104, reward: 243.4307573672778\n",
      "episode 105, reward: 30.45508414354219\n",
      "episode 106, reward: 262.70804204277977\n",
      "episode 107, reward: 238.32753345926872\n",
      "episode 108, reward: 252.0355369590157\n",
      "episode 109, reward: 73.70443786476923\n",
      "episode 110, reward: 195.15346537111114\n",
      "episode 111, reward: 17.092212036092434\n",
      "episode 112, reward: 138.0819126200198\n",
      "episode 113, reward: 256.84421053470896\n",
      "episode 114, reward: 286.2029456858942\n",
      "episode 115, reward: 185.30837025991107\n",
      "episode 116, reward: 195.19837801925632\n",
      "episode 117, reward: -533.7849524827197\n",
      "episode 118, reward: 279.5763585198438\n",
      "episode 119, reward: 229.59999598109\n",
      "episode 120, reward: 266.8342576344768\n",
      "episode 121, reward: 271.8807077882044\n",
      "episode 122, reward: 239.2887115905783\n",
      "episode 123, reward: 253.54536176224778\n",
      "episode 124, reward: 282.94549983735214\n",
      "episode 125, reward: 296.00306191149855\n",
      "episode 126, reward: 245.67511731012618\n",
      "episode 127, reward: 244.33671680881335\n"
     ]
    }
   ],
   "source": [
    "rewards, steps_done = train_loop(model, env, loss_fn, optimizer, n_episodes, batch_size, max_grad_norm, capacity, gamma, tau, 0)"
   ]
  },
  {
   "cell_type": "code",
   "execution_count": 177,
   "metadata": {},
   "outputs": [
    {
     "data": {
      "text/plain": [
       "[<matplotlib.lines.Line2D at 0x205a95561e0>]"
      ]
     },
     "execution_count": 177,
     "metadata": {},
     "output_type": "execute_result"
    },
    {
     "data": {
      "image/png": "[encoded data removed]",
      "text/plain": [
       "<Figure size 640x480 with 1 Axes>"
      ]
     },
     "metadata": {},
     "output_type": "display_data"
    }
   ],
   "source": [
    "plt.plot(rewards)"
   ]
  },
  {
   "cell_type": "code",
   "execution_count": 1,
   "metadata": {},
   "outputs": [
    {
     "ename": "NameError",
     "evalue": "name 'test_model' is not defined",
     "output_type": "error",
     "traceback": [
      "\u001b[1;31m---------------------------------------------------------------------------\u001b[0m",
      "\u001b[1;31mNameError\u001b[0m                                 Traceback (most recent call last)",
      "Cell \u001b[1;32mIn[1], line 1\u001b[0m\n\u001b[1;32m----> 1\u001b[0m \u001b[43mtest_model\u001b[49m(model)\n",
      "\u001b[1;31mNameError\u001b[0m: name 'test_model' is not defined"
     ]
    }
   ],
   "source": [
    "test_model(model)"
   ]
  },
  {
   "cell_type": "code",
   "execution_count": 179,
   "metadata": {},
   "outputs": [
    {
     "name": "stdout",
     "output_type": "stream",
     "text": [
      "56600\n"
     ]
    }
   ],
   "source": [
    "print(steps_done)"
   ]
  }
 ],
 "metadata": {
  "kernelspec": {
   "display_name": "Python 3",
   "language": "python",
   "name": "python3"
  },
  "language_info": {
   "codemirror_mode": {
    "name": "ipython",
    "version": 3
   },
   "file_extension": ".py",
   "mimetype": "text/x-python",
   "name": "python",
   "nbconvert_exporter": "python",
   "pygments_lexer": "ipython3",
   "version": "3.12.6"
  }
 },
 "nbformat": 4,
 "nbformat_minor": 2
}
