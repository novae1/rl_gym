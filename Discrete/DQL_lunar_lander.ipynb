{
 "cells": [
  {
   "cell_type": "markdown",
   "metadata": {},
   "source": [
    "# Training Lunar Lander with Q-Learning"
   ]
  },
  {
   "cell_type": "markdown",
   "metadata": {},
   "source": [
    "TO DO:\n",
    "- add normalization to inputs"
   ]
  },
  {
   "cell_type": "markdown",
   "metadata": {},
   "source": [
    "## Setup and hyperparameters"
   ]
  },
  {
   "cell_type": "code",
   "execution_count": 2,
   "metadata": {},
   "outputs": [],
   "source": [
    "import torch\n",
    "from torch import nn, optim\n",
    "\n",
    "import numpy as np\n",
    "import random\n",
    "import math\n",
    "from collections import namedtuple, deque\n",
    "\n",
    "import gymnasium as gym\n",
    "\n",
    "import matplotlib\n",
    "import matplotlib.pyplot as plt\n",
    "from IPython.display import clear_output\n",
    "import time"
   ]
  },
  {
   "cell_type": "markdown",
   "metadata": {},
   "source": [
    "The gymnasium page has this environment configurations, I'll go with them for now and change if I encounter any problems or want to test different parameters."
   ]
  },
  {
   "cell_type": "code",
   "execution_count": 3,
   "metadata": {},
   "outputs": [],
   "source": [
    "env = gym.make(\n",
    "    \"LunarLander-v2\",\n",
    "    continuous=False,\n",
    "    gravity=-10.0,\n",
    "    enable_wind=False,\n",
    "    wind_power=15.0,\n",
    "    turbulence_power=1.5,\n",
    ")"
   ]
  },
  {
   "cell_type": "markdown",
   "metadata": {},
   "source": [
    "Hyperparameters and global variables! I'll update the list as needed."
   ]
  },
  {
   "cell_type": "code",
   "execution_count": 36,
   "metadata": {},
   "outputs": [],
   "source": [
    "# Model's input and output\n",
    "N_OBSERVATIONS = 8\n",
    "N_ACTIONS = 4\n",
    "CAPACITY = 10_000\n",
    "\n",
    "EPS_START = 1.0\n",
    "EPS_END = 0.1\n",
    "EPS_DECAY = 9e-5\n",
    "GAMMA = 0.99\n",
    "\n",
    "BATCH_SIZE = 64\n",
    "LEARNING_RATE = 1e-3\n",
    "\n",
    "TRAIN = True"
   ]
  },
  {
   "cell_type": "markdown",
   "metadata": {},
   "source": [
    "## Testing the environment"
   ]
  },
  {
   "cell_type": "code",
   "execution_count": 5,
   "metadata": {},
   "outputs": [
    {
     "name": "stdout",
     "output_type": "stream",
     "text": [
      "[array([-0.00607796,  1.4121082 , -0.6156534 ,  0.05278005,  0.0070497 ,\n",
      "        0.13945462,  0.        ,  0.        ], dtype=float32), 3, array([-0.01208868,  1.4127188 , -0.6063167 ,  0.02709705,  0.01223514,\n",
      "        0.10371908,  0.        ,  0.        ], dtype=float32), 0.48552117641296033]\n",
      "Discrete(4)\n"
     ]
    }
   ],
   "source": [
    "test_env = gym.make(\n",
    "    \"LunarLander-v2\",\n",
    "    continuous=False,\n",
    "    gravity=-10.0,\n",
    "    enable_wind=False,\n",
    "    wind_power=15.0,\n",
    "    turbulence_power=1.5,\n",
    "    render_mode=\"human\"\n",
    ")\n",
    "\n",
    "for _ in range(0):\n",
    "    state, info = test_env.reset()\n",
    "    terminated, truncated = False, False\n",
    "    while not (terminated or truncated):\n",
    "        action = test_env.action_space.sample()\n",
    "        next_state, reward, terminated, truncated, info = test_env.step(action)\n",
    "\n",
    "state, info = test_env.reset()\n",
    "action = test_env.action_space.sample()\n",
    "next_state, reward, _, _ , _= test_env.step(action)\n",
    "\n",
    "test_env.close()\n",
    "\n",
    "data = [state, action, next_state, reward]\n",
    "print(data)\n",
    "print(test_env.action_space)"
   ]
  },
  {
   "cell_type": "markdown",
   "metadata": {},
   "source": [
    "## Model class"
   ]
  },
  {
   "cell_type": "markdown",
   "metadata": {},
   "source": [
    "There are many possible model settings. Since the input space is so small I'll start with a simple MLP. If that doesn't work I'll try more complicated architectures."
   ]
  },
  {
   "cell_type": "code",
   "execution_count": 6,
   "metadata": {},
   "outputs": [],
   "source": [
    "class RocketNet(nn.Module):\n",
    "    def __init__(self):\n",
    "        super().__init__()\n",
    "        self.mlp = nn.Sequential(\n",
    "            nn.Linear(N_OBSERVATIONS, 32),\n",
    "            nn.ReLU(),\n",
    "            nn.Linear(32, 32),\n",
    "            nn.ReLU(),\n",
    "            nn.Linear(32, N_ACTIONS)\n",
    "        )\n",
    "\n",
    "    def forward(self, x):\n",
    "        logits = self.mlp(x)\n",
    "        return logits"
   ]
  },
  {
   "cell_type": "markdown",
   "metadata": {},
   "source": [
    "## Replay Memory"
   ]
  },
  {
   "cell_type": "markdown",
   "metadata": {},
   "source": [
    "The replay memory will store observations up to a set capacity. After the memory has been filled to capacity, older observations will be discarted. The deque object deal with this automatically.\n",
    "\n",
    "It'll be possible to sample elements of the memory. If the memory has fewer elements than have been inputted, the total amount of elements will be sampled instead.\n",
    "\n",
    "What objects will be stores in memory? Tuples of the form (state, action, reward, next_state).\n",
    "\n",
    "When sampling the returned objects shouldn't be the tuples, but rather 4 torch tensors with elements from the same tuple in the same index."
   ]
  },
  {
   "cell_type": "code",
   "execution_count": 7,
   "metadata": {},
   "outputs": [],
   "source": [
    "Transition = namedtuple('Transition', ['state', 'action', 'reward', 'next_state', 'isnt_final'])\n",
    "\n",
    "class ReplayMemory():\n",
    "    def __init__(self, capacity):\n",
    "        self.memory = deque(maxlen=capacity)\n",
    "\n",
    "    def __len__(self):\n",
    "        return len(self.memory)\n",
    "    \n",
    "    def push(self, state, action, reward, next_state, isnt_final):\n",
    "        transition = Transition(state, action, reward, next_state, isnt_final)\n",
    "        self.memory.append(transition)\n",
    "\n",
    "    def sample(self, n_samples):\n",
    "        total_samples = min(n_samples, len(self.memory))\n",
    "        samples = random.sample(self.memory, total_samples)\n",
    "\n",
    "        # Create torch array for each element in tuple\n",
    "        state_sample = torch.from_numpy(np.vstack([t.state for t in samples]))\n",
    "        action_sample = [t.action for t in samples]\n",
    "        reward_sample = torch.tensor([t.reward for t in samples])\n",
    "        next_state_sample = torch.from_numpy(np.vstack([t.next_state for t in samples]))\n",
    "        isnt_final_sample = torch.tensor([t.isnt_final for t in samples])\n",
    "\n",
    "        # Return all samples\n",
    "        return state_sample, action_sample, reward_sample, next_state_sample, isnt_final_sample"
   ]
  },
  {
   "cell_type": "markdown",
   "metadata": {},
   "source": [
    "Let's check if the class is working as expected"
   ]
  },
  {
   "cell_type": "code",
   "execution_count": 8,
   "metadata": {},
   "outputs": [
    {
     "name": "stdout",
     "output_type": "stream",
     "text": [
      "tensor([[ 0.7787,  0.9082,  1.3311, -1.0156, -0.9076, -0.4703,  0.0000,  0.0000],\n",
      "        [ 0.4801,  1.3731,  0.9914, -0.4565, -0.6244, -0.0406,  0.0000,  0.0000],\n",
      "        [ 0.4302,  1.4188,  1.0203, -0.3355, -0.6008, -0.1887,  0.0000,  0.0000],\n",
      "        [ 0.6037,  1.2100,  1.1108, -0.6965, -0.6704, -0.1394,  0.0000,  0.0000],\n",
      "        [ 0.2492,  1.5394,  0.7585, -0.1041, -0.4188, -0.3359,  0.0000,  0.0000],\n",
      "        [ 0.7919,  0.8851,  1.3311, -1.0423, -0.9311, -0.4703,  0.0000,  0.0000],\n",
      "        [ 0.2418,  1.5416,  0.7513, -0.0758, -0.4020, -0.3047,  0.0000,  0.0000],\n",
      "        [ 0.6820,  1.0830,  1.1358, -0.8957, -0.7521, -0.2766,  0.0000,  0.0000],\n",
      "        [ 0.3092,  1.5131,  0.7575, -0.2427, -0.5108, -0.2201,  0.0000,  0.0000],\n",
      "        [ 0.9314,  0.6274,  1.4552, -1.2704, -1.1474, -0.4550,  0.0000,  0.0000],\n",
      "        [ 0.3017,  1.5184,  0.7474, -0.2123, -0.4998, -0.1710,  0.0000,  0.0000],\n",
      "        [ 0.0550,  1.4774,  0.6174,  0.2508, -0.0603, -0.1634,  0.0000,  0.0000],\n",
      "        [ 0.8742,  0.7365,  1.4058, -1.1638, -1.0685, -0.4115,  0.0000,  0.0000],\n",
      "        [ 0.4901,  1.3622,  1.0005, -0.4880, -0.6290, -0.0915,  0.0000,  0.0000],\n",
      "        [ 0.9899,  0.5087,  1.4900, -1.3722, -1.2340, -0.4383,  0.0000,  0.0000],\n",
      "        [ 0.8322,  0.8127,  1.4121, -1.0900, -1.0014, -0.4653,  0.0000,  0.0000],\n",
      "        [ 0.1103,  1.5160,  0.6271,  0.1414, -0.1513, -0.1071,  0.0000,  0.0000],\n",
      "        [ 0.6259,  1.1769,  1.1191, -0.7543, -0.6867, -0.1863,  0.0000,  0.0000],\n",
      "        [ 0.8462,  0.7879,  1.4120, -1.1167, -1.0247, -0.4652,  0.0000,  0.0000],\n",
      "        [ 0.6933,  1.0623,  1.1419, -0.9262, -0.7678, -0.3143,  0.0000,  0.0000],\n",
      "        [ 0.7656,  0.9308,  1.2840, -1.0217, -0.8841, -0.4624,  0.0000,  0.0000],\n",
      "        [ 0.1557,  1.5304,  0.6914,  0.1177, -0.2266, -0.2376,  0.0000,  0.0000],\n",
      "        [ 0.9025,  0.6833,  1.4473, -1.2047, -1.1048, -0.3575,  0.0000,  0.0000],\n",
      "        [ 0.1230,  1.5205,  0.6451,  0.0858, -0.1675, -0.1809,  0.0000,  0.0000],\n",
      "        [ 0.6707,  1.1030,  1.1358, -0.8690, -0.7383, -0.2766,  0.0000,  0.0000],\n",
      "        [ 0.7529,  0.9535,  1.2175, -1.0382, -0.8610, -0.4568,  0.0000,  0.0000],\n",
      "        [ 0.8881,  0.7101,  1.4011, -1.1854, -1.0870, -0.3689,  0.0000,  0.0000],\n",
      "        [ 0.7409,  0.9766,  1.2116, -1.0069, -0.8381, -0.4152,  0.0000,  0.0000],\n",
      "        [ 0.8602,  0.7625,  1.4120, -1.1434, -1.0479, -0.4652,  0.0000,  0.0000],\n",
      "        [ 0.1166,  1.5185,  0.6358,  0.1140, -0.1584, -0.1424,  0.0000,  0.0000],\n",
      "        [ 0.3392,  1.4870,  0.7865, -0.2900, -0.5452, -0.1464,  0.0000,  0.0000],\n",
      "        [ 0.6595,  1.1224,  1.1283, -0.8385, -0.7245, -0.2346,  0.0000,  0.0000],\n",
      "        [ 0.9458,  0.5987,  1.4510, -1.2912, -1.1678, -0.4080,  0.0000,  0.0000],\n",
      "        [ 0.5707,  1.2548,  1.0558, -0.6671, -0.6547, -0.0741,  0.0000,  0.0000],\n",
      "        [ 0.3551,  1.4731,  0.8182, -0.3083, -0.5543, -0.0853,  0.0000,  0.0000],\n",
      "        [ 0.3907,  1.4471,  0.9606, -0.2713, -0.5718, -0.0798,  0.0000,  0.0000],\n",
      "        [ 0.1980,  1.5432,  0.7235,  0.0420, -0.3145, -0.3227,  0.0000,  0.0000],\n",
      "        [ 0.0612,  1.4824,  0.6277,  0.2234, -0.0706, -0.2050,  0.0000,  0.0000],\n",
      "        [ 0.4502,  1.4023,  1.0013, -0.3800, -0.6120, -0.0883,  0.0000,  0.0000],\n",
      "        [ 0.0674,  1.4868,  0.6358,  0.1965, -0.0825, -0.2374,  0.0000,  0.0000],\n",
      "        [ 0.5601,  1.2698,  1.0500, -0.6371, -0.6510, -0.0401,  0.0000,  0.0000],\n",
      "        [ 0.0489,  1.4717,  0.6067,  0.2780, -0.0522, -0.1205,  0.0000,  0.0000],\n",
      "        [ 0.1697,  1.5367,  0.7193,  0.1243, -0.2529, -0.2781,  0.0000,  0.0000],\n",
      "        [ 0.3241,  1.5006,  0.7487, -0.2927, -0.5307, -0.1769,  0.0000,  0.0000],\n",
      "        [ 0.5496,  1.2841,  0.9929, -0.6451, -0.6490, -0.0537,  0.0000,  0.0000],\n",
      "        [ 0.5100,  1.3386,  0.9936, -0.5381, -0.6363, -0.0545,  0.0000,  0.0000],\n",
      "        [ 0.4702,  1.3834,  1.0001, -0.4333, -0.6224, -0.0841,  0.0000,  0.0000],\n",
      "        [ 0.1041,  1.5128,  0.6025,  0.1359, -0.1460, -0.1241,  0.0000,  0.0000],\n",
      "        [ 0.0736,  1.4922,  0.6283,  0.2380, -0.0951, -0.2532,  0.0000,  0.0000],\n",
      "        [ 0.9169,  0.6557,  1.4503, -1.2364, -1.1247, -0.3966,  0.0000,  0.0000],\n",
      "        [ 0.3314,  1.4935,  0.7417, -0.3171, -0.5379, -0.1437,  0.0000,  0.0000],\n",
      "        [ 0.2196,  1.5447,  0.7420,  0.0061, -0.3547, -0.2651,  0.0000,  0.0000],\n",
      "        [ 0.0981,  1.5097,  0.6136,  0.1616, -0.1397, -0.1694,  0.0000,  0.0000],\n",
      "        [ 0.1627,  1.5339,  0.7100,  0.1528, -0.2390, -0.2480,  0.0000,  0.0000],\n",
      "        [ 0.1839,  1.5406,  0.7267,  0.0697, -0.2823, -0.3093,  0.0000,  0.0000],\n",
      "        [ 0.7170,  1.0208,  1.1956, -0.9430, -0.7992, -0.3137,  0.0000,  0.0000],\n",
      "        [ 0.0921,  1.5060,  0.6256,  0.1873, -0.1313, -0.2182,  0.0000,  0.0000],\n",
      "        [ 0.0797,  1.4970,  0.6283,  0.2113, -0.1078, -0.2531,  0.0000,  0.0000],\n",
      "        [ 0.6147,  1.1938,  1.1108, -0.7232, -0.6774, -0.1394,  0.0000,  0.0000],\n",
      "        [ 0.9751,  0.5393,  1.4900, -1.3456, -1.2120, -0.4383,  0.0000,  0.0000],\n",
      "        [ 0.5000,  1.3506,  1.0005, -0.5147, -0.6336, -0.0915,  0.0000,  0.0000],\n",
      "        [ 0.1294,  1.5218,  0.6558,  0.0584, -0.1787, -0.2240,  0.0000,  0.0000],\n",
      "        [ 0.4004,  1.4404,  0.9704, -0.3016, -0.5782, -0.1276,  0.0000,  0.0000],\n",
      "        [ 0.1358,  1.5233,  0.6528,  0.0658, -0.1905, -0.2358,  0.0000,  0.0000],\n",
      "        [ 0.1910,  1.5422,  0.7235,  0.0687, -0.2984, -0.3227,  0.0000,  0.0000],\n",
      "        [ 0.5397,  1.2986,  0.9929, -0.6184, -0.6463, -0.0537,  0.0000,  0.0000],\n",
      "        [ 0.3812,  1.4532,  0.9225, -0.2764, -0.5678, -0.0862,  0.0000,  0.0000],\n",
      "        [ 0.6370,  1.1594,  1.1276, -0.7853, -0.6984, -0.2335,  0.0000,  0.0000],\n",
      "        [ 0.2123,  1.5445,  0.7420,  0.0328, -0.3414, -0.2651,  0.0000,  0.0000],\n",
      "        [ 0.5199,  1.3258,  0.9999, -0.5686, -0.6409, -0.0922,  0.0000,  0.0000],\n",
      "        [ 0.5816,  1.2405,  1.1019, -0.6381, -0.6591, -0.0879,  0.0000,  0.0000],\n",
      "        [ 0.0859,  1.5018,  0.6340,  0.2134, -0.1204, -0.2521,  0.0000,  0.0000],\n",
      "        [ 0.3720,  1.4593,  0.8706, -0.3068, -0.5635, -0.0843,  0.0000,  0.0000],\n",
      "        [ 0.4402,  1.4108,  1.0102, -0.3576, -0.6076, -0.1360,  0.0000,  0.0000],\n",
      "        [ 0.1423,  1.5258,  0.6656,  0.1080, -0.2026, -0.2426,  0.0000,  0.0000],\n",
      "        [ 0.2344,  1.5432,  0.7592, -0.0512, -0.3868, -0.3398,  0.0000,  0.0000],\n",
      "        [ 0.7051,  1.0418,  1.1957, -0.9164, -0.7835, -0.3137,  0.0000,  0.0000],\n",
      "        [ 0.4603,  1.3931,  1.0077, -0.4099, -0.6182, -0.1234,  0.0000,  0.0000],\n",
      "        [ 0.2050,  1.5437,  0.7122,  0.0181, -0.3282, -0.2731,  0.0000,  0.0000],\n",
      "        [ 0.8051,  0.8613,  1.3310, -1.0690, -0.9546, -0.4703,  0.0000,  0.0000],\n",
      "        [ 0.7289,  0.9990,  1.2033, -0.9749, -0.8174, -0.3633,  0.0000,  0.0000],\n",
      "        [ 0.2646,  1.5361,  0.7775, -0.0881, -0.4518, -0.3099,  0.0000,  0.0000],\n",
      "        [ 0.9603,  0.5692,  1.4536, -1.3228, -1.1901, -0.4462,  0.0000,  0.0000],\n",
      "        [ 0.5926,  1.2256,  1.1019, -0.6648, -0.6634, -0.0879,  0.0000,  0.0000],\n",
      "        [ 0.2943,  1.5232,  0.7392, -0.1824, -0.4913, -0.1306,  0.0000,  0.0000],\n",
      "        [ 0.3633,  1.4662,  0.8244, -0.3087, -0.5593, -0.1002,  0.0000,  0.0000],\n",
      "        [ 0.2796,  1.5307,  0.7580, -0.1356, -0.4763, -0.2199,  0.0000,  0.0000],\n",
      "        [ 0.1489,  1.5277,  0.6656,  0.0813, -0.2147, -0.2425,  0.0000,  0.0000],\n",
      "        [ 0.4201,  1.4262,  1.0099, -0.3046, -0.5914, -0.1361,  0.0000,  0.0000],\n",
      "        [ 0.3167,  1.5071,  0.7575, -0.2694, -0.5218, -0.2201,  0.0000,  0.0000],\n",
      "        [ 0.4100,  1.4330,  0.9704, -0.3283, -0.5845, -0.1276,  0.0000,  0.0000],\n",
      "        [ 0.6483,  1.1411,  1.1374, -0.8169, -0.7127, -0.2873,  0.0000,  0.0000],\n",
      "        [ 0.2569,  1.5380,  0.7862, -0.0644, -0.4363, -0.3506,  0.0000,  0.0000],\n",
      "        [ 0.2270,  1.5443,  0.7505, -0.0226, -0.3698, -0.3022,  0.0000,  0.0000],\n",
      "        [ 0.2870,  1.5272,  0.7474, -0.1586, -0.4847, -0.1697,  0.0000,  0.0000],\n",
      "        [ 0.1768,  1.5389,  0.7193,  0.0976, -0.2668, -0.2781,  0.0000,  0.0000],\n",
      "        [ 0.3470,  1.4800,  0.7760, -0.3130, -0.5500, -0.0962,  0.0000,  0.0000],\n",
      "        [ 0.5298,  1.3125,  0.9929, -0.5918, -0.6436, -0.0537,  0.0000,  0.0000],\n",
      "        [ 0.8183,  0.8369,  1.3309, -1.0957, -0.9782, -0.4702,  0.0000,  0.0000],\n",
      "        [ 0.2721,  1.5337,  0.7684, -0.1122, -0.4653, -0.2684,  0.0000,  0.0000]])\n",
      "[0, 3, 1, 0, 2, 0, 3, 3, 0, 1, 3, 3, 1, 0, 1, 0, 3, 3, 0, 2, 2, 2, 3, 3, 0, 2, 2, 3, 1, 3, 1, 3, 3, 2, 2, 3, 1, 3, 3, 2, 3, 3, 0, 1, 2, 3, 1, 2, 0, 3, 2, 3, 1, 3, 2, 3, 1, 2, 3, 0, 1, 2, 0, 2, 0, 0, 2, 3, 0, 1, 0, 1, 2, 1, 0, 1, 0, 1, 2, 0, 3, 1, 2, 3, 3, 2, 1, 2, 3, 1, 2, 1, 1, 3, 1, 3, 2, 0, 2, 1]\n",
      "tensor([-3.1044e+00, -1.9620e+00, -6.7889e-03, -1.1871e+00, -4.3681e+00,\n",
      "        -3.1409e+00, -2.6518e+00, -2.8556e+00, -1.5204e+00, -2.7634e+00,\n",
      "        -2.5986e+00, -1.5745e+00, -2.2954e+00, -9.0991e-01, -1.0000e+02,\n",
      "        -3.2646e+00, -1.3577e+00, -2.6370e+00, -3.3160e+00, -4.4320e+00,\n",
      "        -5.1082e+00, -4.4466e+00, -3.8099e+00, -2.0964e+00, -1.9089e+00,\n",
      "        -5.7259e+00, -6.3588e+00, -3.6917e+00, -2.2622e+00, -1.6650e+00,\n",
      "         1.4518e-01, -2.7613e+00, -4.2627e+00, -2.3455e+00, -9.2582e-01,\n",
      "        -2.0744e+00, -3.0438e-01, -1.6065e+00, -1.7739e+00, -2.7681e+00,\n",
      "        -1.5395e+00, -1.3369e+00, -1.2858e+00, -4.8344e-01, -4.0192e+00,\n",
      "        -1.6979e+00,  2.5719e-01, -3.7194e+00, -8.7839e-01, -4.4749e+00,\n",
      "        -3.7370e+00, -2.4833e+00,  6.9293e-01, -2.1469e+00, -1.8350e+00,\n",
      "        -3.3607e+00,  5.7411e-01, -2.6795e+00, -2.3914e+00, -3.8552e+00,\n",
      "         3.5981e-03, -1.4530e+00, -1.0173e+00, -3.6397e+00, -1.5984e+00,\n",
      "        -7.5009e-01, -3.8781e+00, -3.0499e+00, -1.3763e+00,  1.4942e-02,\n",
      "        -9.2175e-01,  6.6614e-03, -4.3519e+00,  1.0299e-01, -1.0874e+00,\n",
      "        -9.2798e-01, -2.1442e+00, -4.7847e-02, -4.8354e+00, -3.1805e+00,\n",
      "        -3.6889e+00, -6.6588e-01, -6.5156e+00, -2.2326e+00, -2.1236e+00,\n",
      "        -4.5422e+00, -7.2184e-02, -4.9025e+00, -2.4654e+00, -4.2249e-01,\n",
      "        -3.6510e+00, -6.7703e-01, -8.9304e-01, -2.7371e+00, -1.5491e-01,\n",
      "        -2.2380e+00, -3.9969e+00, -7.4656e-01, -7.8975e+00, -3.1765e-01],\n",
      "       dtype=torch.float64)\n",
      "tensor([[ 0.7919,  0.8851,  1.3311, -1.0423, -0.9311, -0.4703,  0.0000,  0.0000],\n",
      "        [ 0.4901,  1.3622,  1.0005, -0.4880, -0.6290, -0.0915,  0.0000,  0.0000],\n",
      "        [ 0.4402,  1.4108,  1.0102, -0.3576, -0.6076, -0.1360,  0.0000,  0.0000],\n",
      "        [ 0.6147,  1.1938,  1.1108, -0.7232, -0.6774, -0.1394,  0.0000,  0.0000],\n",
      "        [ 0.2569,  1.5380,  0.7862, -0.0644, -0.4363, -0.3506,  0.0000,  0.0000],\n",
      "        [ 0.8051,  0.8613,  1.3310, -1.0690, -0.9546, -0.4703,  0.0000,  0.0000],\n",
      "        [ 0.2492,  1.5394,  0.7585, -0.1041, -0.4188, -0.3359,  0.0000,  0.0000],\n",
      "        [ 0.6933,  1.0623,  1.1419, -0.9262, -0.7678, -0.3143,  0.0000,  0.0000],\n",
      "        [ 0.3167,  1.5071,  0.7575, -0.2694, -0.5218, -0.2201,  0.0000,  0.0000],\n",
      "        [ 0.9458,  0.5987,  1.4510, -1.2912, -1.1678, -0.4080,  0.0000,  0.0000],\n",
      "        [ 0.3092,  1.5131,  0.7575, -0.2427, -0.5108, -0.2201,  0.0000,  0.0000],\n",
      "        [ 0.0612,  1.4824,  0.6277,  0.2234, -0.0706, -0.2050,  0.0000,  0.0000],\n",
      "        [ 0.8881,  0.7101,  1.4011, -1.1854, -1.0870, -0.3689,  0.0000,  0.0000],\n",
      "        [ 0.5000,  1.3506,  1.0005, -0.5147, -0.6336, -0.0915,  0.0000,  0.0000],\n",
      "        [ 1.0047,  0.4777,  1.4859, -1.3914, -1.2529, -0.3794,  0.0000,  0.0000],\n",
      "        [ 0.8462,  0.7879,  1.4120, -1.1167, -1.0247, -0.4652,  0.0000,  0.0000],\n",
      "        [ 0.1166,  1.5185,  0.6358,  0.1140, -0.1584, -0.1424,  0.0000,  0.0000],\n",
      "        [ 0.6370,  1.1594,  1.1276, -0.7853, -0.6984, -0.2335,  0.0000,  0.0000],\n",
      "        [ 0.8602,  0.7625,  1.4120, -1.1434, -1.0479, -0.4652,  0.0000,  0.0000],\n",
      "        [ 0.7051,  1.0418,  1.1957, -0.9164, -0.7835, -0.3137,  0.0000,  0.0000],\n",
      "        [ 0.7787,  0.9082,  1.3311, -1.0156, -0.9076, -0.4703,  0.0000,  0.0000],\n",
      "        [ 0.1627,  1.5339,  0.7100,  0.1528, -0.2390, -0.2480,  0.0000,  0.0000],\n",
      "        [ 0.9169,  0.6557,  1.4503, -1.2364, -1.1247, -0.3966,  0.0000,  0.0000],\n",
      "        [ 0.1294,  1.5218,  0.6558,  0.0584, -0.1787, -0.2240,  0.0000,  0.0000],\n",
      "        [ 0.6820,  1.0830,  1.1358, -0.8957, -0.7521, -0.2766,  0.0000,  0.0000],\n",
      "        [ 0.7656,  0.9308,  1.2840, -1.0217, -0.8841, -0.4624,  0.0000,  0.0000],\n",
      "        [ 0.9025,  0.6833,  1.4473, -1.2047, -1.1048, -0.3575,  0.0000,  0.0000],\n",
      "        [ 0.7529,  0.9535,  1.2175, -1.0382, -0.8610, -0.4568,  0.0000,  0.0000],\n",
      "        [ 0.8742,  0.7365,  1.4058, -1.1638, -1.0685, -0.4115,  0.0000,  0.0000],\n",
      "        [ 0.1230,  1.5205,  0.6451,  0.0858, -0.1675, -0.1809,  0.0000,  0.0000],\n",
      "        [ 0.3470,  1.4800,  0.7760, -0.3130, -0.5500, -0.0962,  0.0000,  0.0000],\n",
      "        [ 0.6707,  1.1030,  1.1358, -0.8690, -0.7383, -0.2766,  0.0000,  0.0000],\n",
      "        [ 0.9603,  0.5692,  1.4536, -1.3228, -1.1901, -0.4462,  0.0000,  0.0000],\n",
      "        [ 0.5816,  1.2405,  1.1019, -0.6381, -0.6591, -0.0879,  0.0000,  0.0000],\n",
      "        [ 0.3633,  1.4662,  0.8244, -0.3087, -0.5593, -0.1002,  0.0000,  0.0000],\n",
      "        [ 0.4004,  1.4404,  0.9704, -0.3016, -0.5782, -0.1276,  0.0000,  0.0000],\n",
      "        [ 0.2050,  1.5437,  0.7122,  0.0181, -0.3282, -0.2731,  0.0000,  0.0000],\n",
      "        [ 0.0674,  1.4868,  0.6358,  0.1965, -0.0825, -0.2374,  0.0000,  0.0000],\n",
      "        [ 0.4603,  1.3931,  1.0077, -0.4099, -0.6182, -0.1234,  0.0000,  0.0000],\n",
      "        [ 0.0736,  1.4922,  0.6283,  0.2380, -0.0951, -0.2532,  0.0000,  0.0000],\n",
      "        [ 0.5707,  1.2548,  1.0558, -0.6671, -0.6547, -0.0741,  0.0000,  0.0000],\n",
      "        [ 0.0550,  1.4774,  0.6174,  0.2508, -0.0603, -0.1634,  0.0000,  0.0000],\n",
      "        [ 0.1768,  1.5389,  0.7193,  0.0976, -0.2668, -0.2781,  0.0000,  0.0000],\n",
      "        [ 0.3314,  1.4935,  0.7417, -0.3171, -0.5379, -0.1437,  0.0000,  0.0000],\n",
      "        [ 0.5601,  1.2698,  1.0500, -0.6371, -0.6510, -0.0401,  0.0000,  0.0000],\n",
      "        [ 0.5199,  1.3258,  0.9999, -0.5686, -0.6409, -0.0922,  0.0000,  0.0000],\n",
      "        [ 0.4801,  1.3731,  0.9914, -0.4565, -0.6244, -0.0406,  0.0000,  0.0000],\n",
      "        [ 0.1103,  1.5160,  0.6271,  0.1414, -0.1513, -0.1071,  0.0000,  0.0000],\n",
      "        [ 0.0797,  1.4970,  0.6283,  0.2113, -0.1078, -0.2531,  0.0000,  0.0000],\n",
      "        [ 0.9314,  0.6274,  1.4552, -1.2704, -1.1474, -0.4550,  0.0000,  0.0000],\n",
      "        [ 0.3392,  1.4870,  0.7865, -0.2900, -0.5452, -0.1464,  0.0000,  0.0000],\n",
      "        [ 0.2270,  1.5443,  0.7505, -0.0226, -0.3698, -0.3022,  0.0000,  0.0000],\n",
      "        [ 0.1041,  1.5128,  0.6025,  0.1359, -0.1460, -0.1241,  0.0000,  0.0000],\n",
      "        [ 0.1697,  1.5367,  0.7193,  0.1243, -0.2529, -0.2781,  0.0000,  0.0000],\n",
      "        [ 0.1910,  1.5422,  0.7235,  0.0687, -0.2984, -0.3227,  0.0000,  0.0000],\n",
      "        [ 0.7289,  0.9990,  1.2033, -0.9749, -0.8174, -0.3633,  0.0000,  0.0000],\n",
      "        [ 0.0981,  1.5097,  0.6136,  0.1616, -0.1397, -0.1694,  0.0000,  0.0000],\n",
      "        [ 0.0859,  1.5018,  0.6340,  0.2134, -0.1204, -0.2521,  0.0000,  0.0000],\n",
      "        [ 0.6259,  1.1769,  1.1191, -0.7543, -0.6867, -0.1863,  0.0000,  0.0000],\n",
      "        [ 0.9899,  0.5087,  1.4900, -1.3722, -1.2340, -0.4383,  0.0000,  0.0000],\n",
      "        [ 0.5100,  1.3386,  0.9936, -0.5381, -0.6363, -0.0545,  0.0000,  0.0000],\n",
      "        [ 0.1358,  1.5233,  0.6528,  0.0658, -0.1905, -0.2358,  0.0000,  0.0000],\n",
      "        [ 0.4100,  1.4330,  0.9704, -0.3283, -0.5845, -0.1276,  0.0000,  0.0000],\n",
      "        [ 0.1423,  1.5258,  0.6656,  0.1080, -0.2026, -0.2426,  0.0000,  0.0000],\n",
      "        [ 0.1980,  1.5432,  0.7235,  0.0420, -0.3145, -0.3227,  0.0000,  0.0000],\n",
      "        [ 0.5496,  1.2841,  0.9929, -0.6451, -0.6490, -0.0537,  0.0000,  0.0000],\n",
      "        [ 0.3907,  1.4471,  0.9606, -0.2713, -0.5718, -0.0798,  0.0000,  0.0000],\n",
      "        [ 0.6483,  1.1411,  1.1374, -0.8169, -0.7127, -0.2873,  0.0000,  0.0000],\n",
      "        [ 0.2196,  1.5447,  0.7420,  0.0061, -0.3547, -0.2651,  0.0000,  0.0000],\n",
      "        [ 0.5298,  1.3125,  0.9929, -0.5918, -0.6436, -0.0537,  0.0000,  0.0000],\n",
      "        [ 0.5926,  1.2256,  1.1019, -0.6648, -0.6634, -0.0879,  0.0000,  0.0000],\n",
      "        [ 0.0921,  1.5060,  0.6256,  0.1873, -0.1313, -0.2182,  0.0000,  0.0000],\n",
      "        [ 0.3812,  1.4532,  0.9225, -0.2764, -0.5678, -0.0862,  0.0000,  0.0000],\n",
      "        [ 0.4502,  1.4023,  1.0013, -0.3800, -0.6120, -0.0883,  0.0000,  0.0000],\n",
      "        [ 0.1489,  1.5277,  0.6656,  0.0813, -0.2147, -0.2425,  0.0000,  0.0000],\n",
      "        [ 0.2418,  1.5416,  0.7513, -0.0758, -0.4020, -0.3047,  0.0000,  0.0000],\n",
      "        [ 0.7170,  1.0208,  1.1956, -0.9430, -0.7992, -0.3137,  0.0000,  0.0000],\n",
      "        [ 0.4702,  1.3834,  1.0001, -0.4333, -0.6224, -0.0841,  0.0000,  0.0000],\n",
      "        [ 0.2123,  1.5445,  0.7420,  0.0328, -0.3414, -0.2651,  0.0000,  0.0000],\n",
      "        [ 0.8183,  0.8369,  1.3309, -1.0957, -0.9782, -0.4702,  0.0000,  0.0000],\n",
      "        [ 0.7409,  0.9766,  1.2116, -1.0069, -0.8381, -0.4152,  0.0000,  0.0000],\n",
      "        [ 0.2721,  1.5337,  0.7684, -0.1122, -0.4653, -0.2684,  0.0000,  0.0000],\n",
      "        [ 0.9751,  0.5393,  1.4900, -1.3456, -1.2120, -0.4383,  0.0000,  0.0000],\n",
      "        [ 0.6037,  1.2100,  1.1108, -0.6965, -0.6704, -0.1394,  0.0000,  0.0000],\n",
      "        [ 0.3017,  1.5184,  0.7474, -0.2123, -0.4998, -0.1710,  0.0000,  0.0000],\n",
      "        [ 0.3720,  1.4593,  0.8706, -0.3068, -0.5635, -0.0843,  0.0000,  0.0000],\n",
      "        [ 0.2870,  1.5272,  0.7474, -0.1586, -0.4847, -0.1697,  0.0000,  0.0000],\n",
      "        [ 0.1557,  1.5304,  0.6914,  0.1177, -0.2266, -0.2376,  0.0000,  0.0000],\n",
      "        [ 0.4302,  1.4188,  1.0203, -0.3355, -0.6008, -0.1887,  0.0000,  0.0000],\n",
      "        [ 0.3241,  1.5006,  0.7487, -0.2927, -0.5307, -0.1769,  0.0000,  0.0000],\n",
      "        [ 0.4201,  1.4262,  1.0099, -0.3046, -0.5914, -0.1361,  0.0000,  0.0000],\n",
      "        [ 0.6595,  1.1224,  1.1283, -0.8385, -0.7245, -0.2346,  0.0000,  0.0000],\n",
      "        [ 0.2646,  1.5361,  0.7775, -0.0881, -0.4518, -0.3099,  0.0000,  0.0000],\n",
      "        [ 0.2344,  1.5432,  0.7592, -0.0512, -0.3868, -0.3398,  0.0000,  0.0000],\n",
      "        [ 0.2943,  1.5232,  0.7392, -0.1824, -0.4913, -0.1306,  0.0000,  0.0000],\n",
      "        [ 0.1839,  1.5406,  0.7267,  0.0697, -0.2823, -0.3093,  0.0000,  0.0000],\n",
      "        [ 0.3551,  1.4731,  0.8182, -0.3083, -0.5543, -0.0853,  0.0000,  0.0000],\n",
      "        [ 0.5397,  1.2986,  0.9929, -0.6184, -0.6463, -0.0537,  0.0000,  0.0000],\n",
      "        [ 0.8322,  0.8127,  1.4121, -1.0900, -1.0014, -0.4653,  0.0000,  0.0000],\n",
      "        [ 0.2796,  1.5307,  0.7580, -0.1356, -0.4763, -0.2199,  0.0000,  0.0000]])\n",
      "tensor([1, 1, 1, 1, 1, 1, 1, 1, 1, 1, 1, 1, 1, 1, 0, 1, 1, 1, 1, 1, 1, 1, 1, 1,\n",
      "        1, 1, 1, 1, 1, 1, 1, 1, 1, 1, 1, 1, 1, 1, 1, 1, 1, 1, 1, 1, 1, 1, 1, 1,\n",
      "        1, 1, 1, 1, 1, 1, 1, 1, 1, 1, 1, 1, 1, 1, 1, 1, 1, 1, 1, 1, 1, 1, 1, 1,\n",
      "        1, 1, 1, 1, 1, 1, 1, 1, 1, 1, 1, 1, 1, 1, 1, 1, 1, 1, 1, 1, 1, 1, 1, 1,\n",
      "        1, 1, 1, 1])\n"
     ]
    }
   ],
   "source": [
    "test_memory = ReplayMemory(100)\n",
    "\n",
    "state, _ = env.reset()\n",
    "terminated, truncated = False, False\n",
    "while not (terminated or truncated):\n",
    "    action = env.action_space.sample()\n",
    "    next_state, reward, terminated, truncated, _ = env.step(action)\n",
    "    if terminated or truncated:\n",
    "        isnt_final = 0\n",
    "    else:\n",
    "        isnt_final = 1\n",
    "    test_memory.push(state, action, reward, next_state, isnt_final)\n",
    "    state = next_state\n",
    "\n",
    "samples = test_memory.sample(100)\n",
    "for sample in samples:\n",
    "    print(sample)"
   ]
  },
  {
   "cell_type": "markdown",
   "metadata": {},
   "source": [
    "It's working! yay!"
   ]
  },
  {
   "cell_type": "markdown",
   "metadata": {},
   "source": [
    "## Select action"
   ]
  },
  {
   "cell_type": "markdown",
   "metadata": {},
   "source": [
    "I'll implement an epsilon-greedy action choice with epsilon decreasing linearly from 1.0 to 0.1 over the first 1e4 steps.\n",
    "\n",
    "The action will depend on the model and state."
   ]
  },
  {
   "cell_type": "code",
   "execution_count": 9,
   "metadata": {},
   "outputs": [],
   "source": [
    "def select_action(model, state, steps_done):\n",
    "    # Compute epsilon\n",
    "    eps = max(EPS_END, EPS_START - EPS_DECAY * steps_done)\n",
    "    rand = random.random()\n",
    "    if rand <= eps:\n",
    "        # Pick random action\n",
    "        action = env.action_space.sample()\n",
    "    else:\n",
    "        with torch.no_grad(): # This won't be used for optimization\n",
    "            tensor_state = torch.from_numpy(state)\n",
    "            logits = model(tensor_state)\n",
    "            action = torch.argmax(logits).item()\n",
    "    return action"
   ]
  },
  {
   "cell_type": "code",
   "execution_count": 10,
   "metadata": {},
   "outputs": [
    {
     "name": "stdout",
     "output_type": "stream",
     "text": [
      "1\n"
     ]
    }
   ],
   "source": [
    "test_model = RocketNet()\n",
    "state, _ = env.reset()\n",
    "action = select_action(test_model, state, 10000)\n",
    "print(action)"
   ]
  },
  {
   "cell_type": "markdown",
   "metadata": {},
   "source": [
    "## Clear plot and display list of values"
   ]
  },
  {
   "cell_type": "code",
   "execution_count": 11,
   "metadata": {},
   "outputs": [],
   "source": [
    "def update_plot(data, title=\"\", datalabel=\"data\", xlabel=\"\", ylabel=\"\", grid=True, sleep=0.5):\n",
    "    clear_output(wait=True)\n",
    "    plt.plot(data, label=datalabel)\n",
    "    \n",
    "    if len(data) >= 50:\n",
    "        # Calculate the average of the last 100 data points\n",
    "        avg_last_100 = [sum(data[i-49:i+1])/50 for i in range(49, len(data))]\n",
    "        plt.plot(range(49, len(data)), avg_last_100)\n",
    "    \n",
    "    plt.title(title)\n",
    "    plt.xlabel(xlabel)\n",
    "    plt.ylabel(ylabel)\n",
    "    plt.grid(grid)\n",
    "    plt.legend()\n",
    "    plt.show()\n",
    "    \n",
    "    time.sleep(sleep)"
   ]
  },
  {
   "cell_type": "code",
   "execution_count": 12,
   "metadata": {},
   "outputs": [
    {
     "data": {
      "image/png": "[encoded data removed]",
      "text/plain": [
       "<Figure size 640x480 with 1 Axes>"
      ]
     },
     "metadata": {},
     "output_type": "display_data"
    }
   ],
   "source": [
    "data = []\n",
    "for i in range(1, 100):\n",
    "    rand = math.log(i * random.random())\n",
    "    data.append(rand)\n",
    "    update_plot(data, datalabel=\"data\", sleep=0.001)"
   ]
  },
  {
   "cell_type": "markdown",
   "metadata": {},
   "source": [
    "## Normalize inputs"
   ]
  },
  {
   "cell_type": "markdown",
   "metadata": {},
   "source": [
    "My training code wasn't working. One possible issue is that the inputs aren't normalized. I'll generate 1000 (maybe more) random samples and compute the mean and std deviation, and then use that to normalize all further inputs."
   ]
  },
  {
   "cell_type": "code",
   "execution_count": 46,
   "metadata": {},
   "outputs": [],
   "source": [
    "random_observations = np.zeros((10000, N_OBSERVATIONS), dtype='float32')\n",
    "\n",
    "state, _ = env.reset()\n",
    "for i in range(10000):\n",
    "    random_observations[i] = state\n",
    "    action = env.action_space.sample()\n",
    "    state, _, terminated, truncated, _ = env.step(action)\n",
    "    if terminated or truncated:\n",
    "        state, _ = env.reset()"
   ]
  },
  {
   "cell_type": "code",
   "execution_count": 47,
   "metadata": {},
   "outputs": [
    {
     "name": "stdout",
     "output_type": "stream",
     "text": [
      "float32\n",
      "float32\n"
     ]
    }
   ],
   "source": [
    "mean = random_observations.mean(axis=0)\n",
    "std = random_observations.std(axis=0)\n",
    "print(mean.dtype)\n",
    "print(std.dtype)"
   ]
  },
  {
   "cell_type": "code",
   "execution_count": 48,
   "metadata": {},
   "outputs": [],
   "source": [
    "def normalize_state(state):\n",
    "    return (state - mean) / std"
   ]
  },
  {
   "cell_type": "code",
   "execution_count": 53,
   "metadata": {},
   "outputs": [
    {
     "name": "stdout",
     "output_type": "stream",
     "text": [
      "float32\n"
     ]
    }
   ],
   "source": [
    "state, _ = env.reset()\n",
    "print(normalize_state(state).dtype)"
   ]
  },
  {
   "cell_type": "markdown",
   "metadata": {},
   "source": [
    "## Training"
   ]
  },
  {
   "cell_type": "code",
   "execution_count": 55,
   "metadata": {},
   "outputs": [],
   "source": [
    "if TRAIN:\n",
    "    model = RocketNet()\n",
    "    loss_fn = nn.SmoothL1Loss()\n",
    "    optimizer = optim.AdamW(model.parameters(), lr=LEARNING_RATE, amsgrad=True)\n",
    "    memory = ReplayMemory(CAPACITY)"
   ]
  },
  {
   "cell_type": "code",
   "execution_count": 54,
   "metadata": {},
   "outputs": [],
   "source": [
    "def train_loop(model, loss_fn, optimizer, n_episodes, start_step=0):\n",
    "    # Store total episode reward each episode\n",
    "    rewards = []\n",
    "    steps_done = start_step\n",
    "    for _ in range(n_episodes):\n",
    "        episode_reward = 0\n",
    "        state, _ = env.reset()\n",
    "        terminated, truncated = False, False\n",
    "        while not (terminated or truncated):\n",
    "            # Update step\n",
    "            steps_done += 1\n",
    "            \n",
    "            # Normalize state\n",
    "            norm_state = normalize_state(state)\n",
    "            \n",
    "            # Select and perform action\n",
    "            action = select_action(model, norm_state, steps_done)\n",
    "            next_state, reward, terminated, truncated, _ = env.step(action)\n",
    "\n",
    "            # Normalize next_state\n",
    "            norm_next_state = normalize_state(next_state)\n",
    "\n",
    "            # Declare if final or not\n",
    "            if terminated or truncated:\n",
    "                isnt_final = 0\n",
    "            else:\n",
    "                isnt_final = 1\n",
    "\n",
    "            # Push transition into memory\n",
    "            memory.push(norm_state, action, reward, norm_next_state, isnt_final)\n",
    "\n",
    "            # Update state and episode reward\n",
    "            norm_state = norm_next_state\n",
    "            episode_reward += reward\n",
    "            \n",
    "            # Sample random batch\n",
    "            state_batch, action_batch, reward_batch, next_state_batch, isnt_final_batch = memory.sample(BATCH_SIZE)\n",
    "\n",
    "            # Compute Q(state, action) (lefthand-side of Bellman's eq)\n",
    "            logits_batch = model(state_batch)\n",
    "            pred = logits_batch[torch.arange(logits_batch.size(0)), action_batch]\n",
    "\n",
    "            # Compute target (righthand-side of Bellman's eq)\n",
    "            next_logits_batch = model(next_state_batch)\n",
    "            next_pred = torch.max(next_logits_batch, dim=1).values\n",
    "            target = reward_batch + GAMMA * next_pred * isnt_final_batch\n",
    "\n",
    "            # Compute loss and optimize\n",
    "            loss = loss_fn(target, pred)\n",
    "            loss.backward()\n",
    "            optimizer.step()\n",
    "            optimizer.zero_grad()\n",
    "        \n",
    "        rewards.append(episode_reward)\n",
    "        update_plot(rewards, title=\"Episode rewards\", datalabel=\"rewards\", xlabel=\"Episode\", ylabel=\"Reward\", grid=True, sleep=0.001)"
   ]
  },
  {
   "cell_type": "code",
   "execution_count": 56,
   "metadata": {},
   "outputs": [
    {
     "data": {
      "image/png": "[encoded data removed]",
      "text/plain": [
       "<Figure size 640x480 with 1 Axes>"
      ]
     },
     "metadata": {},
     "output_type": "display_data"
    }
   ],
   "source": [
    "if TRAIN:\n",
    "    train_loop(model, loss_fn, optimizer, 1000, 0)"
   ]
  },
  {
   "cell_type": "markdown",
   "metadata": {},
   "source": [
    "## Test model"
   ]
  },
  {
   "cell_type": "code",
   "execution_count": 17,
   "metadata": {},
   "outputs": [],
   "source": [
    "def test_model(model, env, n_episodes):\n",
    "    for _ in range(n_episodes):\n",
    "        state, _ = env.reset()\n",
    "        terminated, truncated = False, False\n",
    "        while not (terminated or truncated):\n",
    "            action = select_action(model, state, 10000)\n",
    "            next_state, _, terminated, truncated, _ = env.step(action)\n",
    "            state = next_state\n",
    "    env.close()"
   ]
  },
  {
   "cell_type": "code",
   "execution_count": 18,
   "metadata": {},
   "outputs": [],
   "source": [
    "test_env = gym.make(\n",
    "    \"LunarLander-v2\",\n",
    "    continuous=False,\n",
    "    gravity=-10.0,\n",
    "    enable_wind=False,\n",
    "    wind_power=15.0,\n",
    "    turbulence_power=1.5,\n",
    "    render_mode=\"human\"\n",
    ")"
   ]
  },
  {
   "cell_type": "code",
   "execution_count": 19,
   "metadata": {},
   "outputs": [],
   "source": [
    "#test_model(model, test_env, 2)"
   ]
  },
  {
   "cell_type": "code",
   "execution_count": 20,
   "metadata": {},
   "outputs": [],
   "source": [
    "# torch.save(model.state_dict(), 'LunarLander-v2_model1.pth')"
   ]
  }
 ],
 "metadata": {
  "kernelspec": {
   "display_name": "Python 3",
   "language": "python",
   "name": "python3"
  },
  "language_info": {
   "codemirror_mode": {
    "name": "ipython",
    "version": 3
   },
   "file_extension": ".py",
   "mimetype": "text/x-python",
   "name": "python",
   "nbconvert_exporter": "python",
   "pygments_lexer": "ipython3",
   "version": "3.10.12"
  }
 },
 "nbformat": 4,
 "nbformat_minor": 2
}
