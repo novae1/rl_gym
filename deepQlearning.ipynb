{
 "cells": [
  {
   "cell_type": "markdown",
   "metadata": {},
   "source": [
    "This code sucks. Here are some proposed changes:\n",
    "\n",
    "- Use pytorch's Dataset and DataLoader to simplify the code\n",
    "- Use torch.no_grad() everywhere gradient's needn't be computed.\n",
    "- Training is very slow for some reason (it was the plot sleeping) (DONE)\n",
    "- Add gradient clipping. (DONE)\n",
    "- Add actor-critic dynamic where critic is updated less frequently."
   ]
  },
  {
   "cell_type": "code",
   "execution_count": 44,
   "metadata": {},
   "outputs": [],
   "source": [
    "import torch\n",
    "import torch.nn as nn\n",
    "from torch import optim\n",
    "from torch.nn.utils import clip_grad_norm_\n",
    "import numpy as np\n",
    "\n",
    "import random\n",
    "import math\n",
    "\n",
    "import matplotlib.pyplot as plt\n",
    "import matplotlib\n",
    "from IPython.display import clear_output\n",
    "\n",
    "from collections import namedtuple, deque\n",
    "\n",
    "import gymnasium as gym\n",
    "\n",
    "import time"
   ]
  },
  {
   "cell_type": "code",
   "execution_count": 45,
   "metadata": {},
   "outputs": [],
   "source": [
    "env = gym.make(\"CartPole-v1\")"
   ]
  },
  {
   "cell_type": "code",
   "execution_count": 46,
   "metadata": {},
   "outputs": [],
   "source": [
    "n_observations = 4\n",
    "n_actions = 2\n",
    "\n",
    "device = 'cpu'\n",
    "\n",
    "BATCH_SIZE = 128\n",
    "GAMMA = 0.99\n",
    "EPS_START = 1.0\n",
    "EPS_END = 0.1\n",
    "EPS_DECAY = 9e-4\n",
    "LR = 2.5e-4\n",
    "CAPACITY = 10000\n",
    "MAX_GRAD_NORM = 0.5\n",
    "\n",
    "layer_dim = 128\n",
    "\n",
    "steps_done = 0"
   ]
  },
  {
   "cell_type": "code",
   "execution_count": 47,
   "metadata": {},
   "outputs": [],
   "source": [
    "class DQN(nn.Module):\n",
    "    def __init__(self, n_observations, n_actions):\n",
    "        super().__init__()\n",
    "        self.network = nn.Sequential(\n",
    "            nn.Linear(n_observations, layer_dim),\n",
    "            nn.ReLU(),\n",
    "            nn.Linear(layer_dim, layer_dim),\n",
    "            nn.ReLU(),\n",
    "            nn.Linear(layer_dim, n_actions)\n",
    "        )\n",
    "\n",
    "    def forward(self, observation):\n",
    "        logits = self.network(observation)\n",
    "        return logits"
   ]
  },
  {
   "cell_type": "markdown",
   "metadata": {},
   "source": [
    "We'll implement an epsilon-greedy policy, whith which we select a random action with probability epsilon and the action that maximizes Q otherwise. Here epsilon decays exponentially to a set minimum as the total number of steps increases.\n",
    "\n",
    "How do we perform optimization in batches where a random action was chosen? If the random action was not what the network predicted would yield most reward, we'll be penalizing our model for predicting the correct action. What should I do then?\n",
    "\n",
    "Maybe it doesn't matter. Since all we're predicting is the total reward given a certain action, it doesn't matter whether we chose a bad or good action. All that matters is how good the network's prediction was.\n",
    "\n",
    "Yes, it doesn't matter. We are indeed picking the action with highest expected reward. Nevertheless, we're training the model to predict expected reward given an action, so it doesn't matter which one we picked.\n",
    "\n",
    "Also, we input only one action at a time, not batches of actions. Batches come into play when we're computing the loss and optimizing the model."
   ]
  },
  {
   "cell_type": "code",
   "execution_count": 48,
   "metadata": {},
   "outputs": [],
   "source": [
    "def select_action(model, observation, train=True):\n",
    "    global steps_done\n",
    "    # gym's actions are always ndarrays\n",
    "    tensor_observation = torch.from_numpy(observation)\n",
    "\n",
    "    # Compute epsilon\n",
    "    sample = random.random()\n",
    "    lambda = (EPS_START - EPS_END) / EPS_DECAY\n",
    "    eps_threshold = EPS_END + max(EPS_END, EPS_START - EPS_DECAY * steps_done)\n",
    "\n",
    "    with torch.no_grad():\n",
    "        logits = model(tensor_observation)\n",
    "        if sample > eps_threshold:\n",
    "            # Pick action with biggest predicted reward\n",
    "            action = logits.argmax().item()\n",
    "        else:\n",
    "            # Pick action at random\n",
    "            action = env.action_space.sample()\n",
    "    if train:\n",
    "        steps_done += 1\n",
    "    return action"
   ]
  },
  {
   "cell_type": "markdown",
   "metadata": {},
   "source": [
    "We store the most recent state transitions up to CAPACITY which we'll randomly sample from to optimize our model. "
   ]
  },
  {
   "cell_type": "code",
   "execution_count": 49,
   "metadata": {},
   "outputs": [],
   "source": [
    "Transition = namedtuple('Transition', ['observation', 'action', 'reward', 'next_observation'])\n",
    "\n",
    "class ReplayMemory():\n",
    "    def __init__(self, capacity):\n",
    "        self.replay_memory = deque(maxlen=capacity)\n",
    "\n",
    "    def __len__(self):\n",
    "        return len(self.replay_memory)\n",
    "\n",
    "    def store(self, observation, action, reward, next_observation):\n",
    "        self.replay_memory.append(Transition(observation, action, reward, next_observation))\n",
    "\n",
    "    def sample(self, batch_size):\n",
    "        sample_size = min(self.__len__(), batch_size)\n",
    "        return random.sample(self.replay_memory, sample_size)"
   ]
  },
  {
   "cell_type": "markdown",
   "metadata": {},
   "source": [
    "The visualization will continuously update the graph of the series of episode durations."
   ]
  },
  {
   "cell_type": "code",
   "execution_count": 50,
   "metadata": {},
   "outputs": [],
   "source": [
    "def update_plot(data, title=\"\", xlabel=\"\", ylabel=\"\", grid=True, sleep=0.01):\n",
    "    clear_output(wait=True)\n",
    "    plt.plot(data)\n",
    "    plt.title(title)\n",
    "    plt.xlabel(xlabel)\n",
    "    plt.ylabel(ylabel)\n",
    "    plt.grid(grid)\n",
    "    plt.show()\n",
    "    time.sleep(sleep)"
   ]
  },
  {
   "cell_type": "markdown",
   "metadata": {},
   "source": [
    "Function to test the model. It'll continuously update a plot with the duration of each episode."
   ]
  },
  {
   "cell_type": "code",
   "execution_count": 51,
   "metadata": {},
   "outputs": [],
   "source": [
    "def test_model(model, n_episodes):\n",
    "    durations = []\n",
    "    for _ in range(n_episodes):\n",
    "        episode_duration = 0\n",
    "        observation, _ = env.reset()\n",
    "        terminated, truncated = False, False\n",
    "        while not (terminated or truncated):\n",
    "            action, _ = select_action(model, observation, train=False)\n",
    "            observation, _, terminated, truncated, _ = env.step(action)\n",
    "            episode_duration += 1\n",
    "        durations.append(episode_duration)\n",
    "        update_plot(durations, 'Episode durations', 'Episode', 'Duration', grid=False)"
   ]
  },
  {
   "cell_type": "code",
   "execution_count": 52,
   "metadata": {},
   "outputs": [],
   "source": [
    "memory = ReplayMemory(CAPACITY)\n",
    "model = DQN(n_observations, n_actions).to(device)\n",
    "loss_fn = nn.SmoothL1Loss()\n",
    "optimizer = optim.AdamW(model.parameters(), lr=LR, amsgrad=True)"
   ]
  },
  {
   "cell_type": "markdown",
   "metadata": {},
   "source": [
    "Everything below is a mess lol... I need to find a way to mask the final observations (not too hard, create tensor with 1s and 0s and multiply with Q) and figure out other things but it shouldn't take too long."
   ]
  },
  {
   "cell_type": "code",
   "execution_count": 53,
   "metadata": {},
   "outputs": [],
   "source": [
    "def train_model(model, n_episodes, loss_fn, optimizer):\n",
    "    durations = []\n",
    "    env = gym.make(\"CartPole-v1\")\n",
    "    for _ in range(n_episodes):\n",
    "        # Initialize env\n",
    "        observation, _ = env.reset()\n",
    "        terminated, truncated = False, False\n",
    "        episode_duration = 0\n",
    "        while not (terminated or truncated):\n",
    "            # Update duration\n",
    "            episode_duration += 1\n",
    "            \n",
    "            # Select and execute action\n",
    "            action = select_action(model, observation)\n",
    "            next_observation, reward, terminated, truncated, _ = env.step(action)\n",
    "\n",
    "            # CartPole always gives reward = 1 even when episode terminates\n",
    "            # This fixes the problem\n",
    "            if terminated or truncated:\n",
    "                reward = 0.0\n",
    "\n",
    "            # Store transition in memory\n",
    "            memory.store(observation, action, reward, next_observation)\n",
    "\n",
    "            # Update observation\n",
    "            observation = next_observation\n",
    "\n",
    "            # Sample batch of transitions\n",
    "            transition_batch = memory.sample(BATCH_SIZE)\n",
    "\n",
    "            # Divide transitions into specific batches\n",
    "            observation_batch = torch.from_numpy(np.vstack([t.observation for t in transition_batch]))\n",
    "            action_batch = torch.tensor([t.action for t in transition_batch])\n",
    "            reward_batch = torch.tensor([t.reward for t in transition_batch])\n",
    "            next_observation_batch = torch.from_numpy(np.vstack([t.next_observation for t in transition_batch]))\n",
    "            \n",
    "            # Get predicted value of Q(observation, action)\n",
    "            pred = model(observation_batch)\n",
    "            selected_pred = pred[torch.arange(pred.size(0)), action_batch]\n",
    "            \n",
    "            # Calculate target for Bellman's equation\n",
    "            next_pred = model(next_observation_batch)\n",
    "            max_next_pred = torch.max(next_pred, dim=1).values\n",
    "            target = reward_batch + GAMMA * (reward_batch * max_next_pred)\n",
    "\n",
    "            # Compute loss\n",
    "            loss = loss_fn(target, selected_pred)\n",
    "\n",
    "            # Backpropagation + optimization\n",
    "            loss.backward()\n",
    "            clip_grad_norm_(model.parameters(), MAX_GRAD_NORM)\n",
    "            optimizer.step()\n",
    "            optimizer.zero_grad()\n",
    "        \n",
    "        # Store episode length\n",
    "        durations.append(episode_duration)\n",
    "\n",
    "        # Display all durations\n",
    "        update_plot(durations, \"Episode durations\", \"Episode\", \"Duration\", grid=False, sleep=0.001)"
   ]
  },
  {
   "cell_type": "markdown",
   "metadata": {},
   "source": [
    "Training! Note that I didn't normalize any of the inputs, that might be why my graph looks so different from the other time."
   ]
  },
  {
   "cell_type": "code",
   "execution_count": 54,
   "metadata": {},
   "outputs": [
    {
     "data": {
      "image/png": "[encoded data removed]",
      "text/plain": [
       "<Figure size 640x480 with 1 Axes>"
      ]
     },
     "metadata": {},
     "output_type": "display_data"
    }
   ],
   "source": [
    "train_model(model, 500, loss_fn, optimizer)"
   ]
  },
  {
   "cell_type": "markdown",
   "metadata": {},
   "source": [
    "Now let's test the model!"
   ]
  },
  {
   "cell_type": "code",
   "execution_count": 55,
   "metadata": {},
   "outputs": [],
   "source": [
    "env = gym.make(\"CartPole-v1\", render_mode='human')\n",
    "observation, _ = env.reset()\n",
    "terminated, truncated = False, False\n",
    "while not (terminated or truncated):\n",
    "    action = select_action(model, observation, train=False)\n",
    "    observation, reward, terminated, truncated, _ = env.step(action)\n",
    "env.close()"
   ]
  },
  {
   "cell_type": "markdown",
   "metadata": {},
   "source": [
    "I also need to save it lol"
   ]
  },
  {
   "cell_type": "code",
   "execution_count": 56,
   "metadata": {},
   "outputs": [],
   "source": [
    "#torch.save(model.state_dict(), 'CartPole-v1_model1.pth')"
   ]
  }
 ],
 "metadata": {
  "kernelspec": {
   "display_name": "Python 3",
   "language": "python",
   "name": "python3"
  },
  "language_info": {
   "codemirror_mode": {
    "name": "ipython",
    "version": 3
   },
   "file_extension": ".py",
   "mimetype": "text/x-python",
   "name": "python",
   "nbconvert_exporter": "python",
   "pygments_lexer": "ipython3",
   "version": "3.10.12"
  }
 },
 "nbformat": 4,
 "nbformat_minor": 2
}
