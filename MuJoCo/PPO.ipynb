{
 "cells": [
  {
   "cell_type": "markdown",
   "metadata": {},
   "source": [
    "# PPO"
   ]
  },
  {
   "cell_type": "markdown",
   "metadata": {},
   "source": [
    "### Setup"
   ]
  },
  {
   "cell_type": "code",
   "execution_count": 175,
   "metadata": {},
   "outputs": [],
   "source": [
    "import torch\n",
    "from torch import nn, optim\n",
    "from torch.utils.data import Dataset, DataLoader\n",
    "from torch.nn.utils import clip_grad_norm_\n",
    "import time\n",
    "import matplotlib.pyplot as plt\n",
    "from IPython.display import clear_output\n",
    "import gymnasium as gym\n",
    "from gymnasium.wrappers import TransformObservation\n",
    "from itertools import chain"
   ]
  },
  {
   "cell_type": "code",
   "execution_count": 134,
   "metadata": {},
   "outputs": [],
   "source": [
    "def pytorch_env(env):\n",
    "    env = TransformObservation(env, lambda x: torch.from_numpy(x).float(), env.observation_space)\n",
    "    return env"
   ]
  },
  {
   "cell_type": "code",
   "execution_count": 465,
   "metadata": {},
   "outputs": [],
   "source": [
    "env = pytorch_env(gym.make('HalfCheetah-v5'))"
   ]
  },
  {
   "cell_type": "code",
   "execution_count": 135,
   "metadata": {},
   "outputs": [],
   "source": [
    "def update_plot(data, title=\"\", xlabel=\"\", ylabel=\"\", grid=True, sleep=0.01):\n",
    "    clear_output(wait=True)\n",
    "    plt.plot(data)\n",
    "    plt.title(title)\n",
    "    plt.xlabel(xlabel)\n",
    "    plt.ylabel(ylabel)\n",
    "    plt.grid(grid)\n",
    "    plt.show()\n",
    "    time.sleep(sleep)"
   ]
  },
  {
   "cell_type": "code",
   "execution_count": 466,
   "metadata": {},
   "outputs": [],
   "source": [
    "N_OBSERVATIONS = env.observation_space.shape[0]\n",
    "N_ACTIONS = env.action_space.shape[0]\n",
    "\n",
    "TEST = False\n",
    "TRAIN = True\n",
    "SAVE = False"
   ]
  },
  {
   "cell_type": "markdown",
   "metadata": {},
   "source": [
    "### Hyperparameters"
   ]
  },
  {
   "cell_type": "code",
   "execution_count": 467,
   "metadata": {},
   "outputs": [],
   "source": [
    "# Hyperparameters\n",
    "n_agents = 4\n",
    "n_timesteps = 128\n",
    "gamma = 0.99\n",
    "epsilon = 0.2\n",
    "v = 1.0 # Value constant\n",
    "learning_rate = 3e-4\n",
    "batch_size = 64\n",
    "n_epochs = 10\n",
    "n_trainsteps = 20\n",
    "max_grad_norm = 0.5\n",
    "layer_dim = 64\n",
    "std = 1."
   ]
  },
  {
   "cell_type": "markdown",
   "metadata": {},
   "source": [
    "### Model"
   ]
  },
  {
   "cell_type": "code",
   "execution_count": 445,
   "metadata": {},
   "outputs": [],
   "source": [
    "class Actor(nn.Module):\n",
    "\tdef __init__(self, n_observations, n_actions, layer_dim, std):\n",
    "\t\tsuper().__init__()\n",
    "\t\tself.n_actions = n_actions\n",
    "\t\tself.mu_network = nn.Sequential(\n",
    "\t\t\tnn.Linear(n_observations, layer_dim),\n",
    "\t\t\tnn.LayerNorm(layer_dim),\n",
    "\t\t\tnn.Tanh(),\n",
    "\t\t\tnn.Linear(layer_dim, layer_dim),\n",
    "\t\t\tnn.LayerNorm(layer_dim),\n",
    "\t\t\tnn.Tanh(),\n",
    "\t\t\tnn.Linear(layer_dim, n_actions)\n",
    "\t\t)\n",
    "\t\tself.std = std\n",
    "\n",
    "\tdef forward(self, obs):\n",
    "\t\tmeans = self.mu_network(obs)\n",
    "\t\treturn means\n",
    "\t\n",
    "\tdef distribution_list(self, state_batch):\n",
    "\t\tdistribution_list = []\n",
    "\t\tfor state in state_batch:\n",
    "\t\t\tmeans = self.forward(state)\n",
    "\t\t\tcov_matrix = torch.eye(self.n_actions) * (self.std ** 2)\n",
    "\t\t\tdistribution = torch.distributions.MultivariateNormal(means, cov_matrix)\n",
    "\t\t\tdistribution_list.append(distribution)\n",
    "\t\treturn distribution_list\n",
    "\n",
    "\tdef select_action(self, state):\n",
    "\t\twith torch.no_grad():\n",
    "\t\t\tmeans = self.forward(state)\n",
    "\t\tcov_matrix = torch.eye(self.n_actions) * (self.std ** 2)\n",
    "\t\taction_distribution = torch.distributions.MultivariateNormal(means, cov_matrix)\n",
    "\t\taction = action_distribution.sample()\n",
    "\t\treturn action"
   ]
  },
  {
   "cell_type": "code",
   "execution_count": 446,
   "metadata": {},
   "outputs": [],
   "source": [
    "class Critic(nn.Module):\n",
    "\tdef __init__(self, n_observations, layer_dim):\n",
    "\t\tsuper().__init__()\n",
    "\t\tself.v_network = nn.Sequential(\n",
    "\t\t\tnn.Linear(n_observations, layer_dim),\n",
    "\t\t\tnn.LayerNorm(layer_dim),\n",
    "\t\t\tnn.Tanh(),\n",
    "\t\t\tnn.Linear(layer_dim, layer_dim),\n",
    "\t\t\tnn.LayerNorm(layer_dim),\n",
    "\t\t\tnn.Tanh(),\n",
    "\t\t\tnn.Linear(layer_dim, 1)\n",
    "\t\t)\n",
    "\n",
    "\tdef forward(self, obs):\n",
    "\t\tvalue = self.v_network(obs)\n",
    "\t\treturn value"
   ]
  },
  {
   "cell_type": "markdown",
   "metadata": {},
   "source": [
    "### Test model"
   ]
  },
  {
   "cell_type": "code",
   "execution_count": 433,
   "metadata": {},
   "outputs": [],
   "source": [
    "def test_model(actor, env):\n",
    "\tepisode_reward = 0.\n",
    "\tstate, _ = env.reset()\n",
    "\tterminated, truncated = False, False\n",
    "\twhile not (terminated or truncated):\n",
    "\t\taction = actor.select_action(state)\n",
    "\t\tstate, reward, terminated, truncated, _ = env.step(action.numpy())\n",
    "\t\tepisode_reward += reward\n",
    "\tenv.close()\n",
    "\treturn episode_reward"
   ]
  },
  {
   "cell_type": "markdown",
   "metadata": {},
   "source": [
    "### PPO Dataset"
   ]
  },
  {
   "cell_type": "code",
   "execution_count": 470,
   "metadata": {},
   "outputs": [],
   "source": [
    "class PPODataset(Dataset):\n",
    "\tdef __init__(self, n_agents, n_timesteps, n_observations, n_actions, gamma):\n",
    "\t\t# Store variables\n",
    "\t\tself.n_agents = n_agents\n",
    "\t\tself.n_timesteps = n_timesteps\n",
    "\t\tself.n_observations = n_observations\n",
    "\t\tself.n_actions = n_actions\n",
    "\t\tself.gamma = gamma\n",
    "\n",
    "\t\t# Create tensors\n",
    "\t\tself.states = torch.zeros((n_agents, n_timesteps, n_observations))\n",
    "\t\tself.actions = torch.zeros((n_agents, n_timesteps))\n",
    "\t\tself.rewards = torch.zeros((n_agents, n_timesteps))\n",
    "\t\tself.logprobs = torch.zeros((n_agents, n_timesteps))\n",
    "\t\tself.pred_values = torch.zeros((n_agents, n_timesteps))\n",
    "\t\tself.target_values = torch.zeros((n_agents, n_timesteps))\n",
    "\t\tself.advantages = torch.zeros((n_agents, n_timesteps))\n",
    "\n",
    "\t\t# Store episode ends\n",
    "\t\tself.episode_ends = [[] for _ in range(n_agents)]\n",
    "\n",
    "\tdef add_step(self, agent, t, state, action, reward, logprob, pred_value):\n",
    "\t\tself.states[agent, t] = state\n",
    "\t\tself.actions[agent, t] = action\n",
    "\t\tself.rewards[agent, t] = reward\n",
    "\t\tself.logprobs[agent, t] = logprob\n",
    "\t\tself.pred_values[agent, t] = pred_value\n",
    "\n",
    "\tdef mark_episode_end(self, agent, t):\n",
    "\t\tself.episode_ends[agent].append(t)\n",
    "\n",
    "\tdef __compute_advantages_and_target_values(self):\n",
    "\t\tfor agent in range(self.n_agents):\n",
    "\t\t\t# Iterate from last to first\n",
    "\t\t\tfor t in range(self.n_timesteps-1, -1, -1):\n",
    "\t\t\t\t# Get reward and predicted value\n",
    "\t\t\t\treward = self.rewards[agent, t]\n",
    "\t\t\t\tpred_value = self.pred_values[agent, t]\n",
    "\n",
    "\t\t\t\t# If step is terminal (end of episode)\n",
    "\t\t\t\tif t in self.episode_ends[agent]:\n",
    "\t\t\t\t\ttarget_value = reward\n",
    "\t\t\t\t# If step is last (t = n_timesteps - 1) but not terminal\n",
    "\t\t\t\telif t == self.n_timesteps - 1:\n",
    "\t\t\t\t\ttarget_value = pred_value\n",
    "\t\t\t\t# non-terminal non-last step\n",
    "\t\t\t\telse:\n",
    "\t\t\t\t\t# Get previous target value (of t+1) and compute\n",
    "\t\t\t\t\tprevious_target_value = self.target_values[agent][t+1]\n",
    "\t\t\t\t\ttarget_value = reward + self.gamma * previous_target_value\n",
    "\t\t\t\t\n",
    "\t\t\t\t# Compute advantage\n",
    "\t\t\t\tadvantage = target_value - pred_value\n",
    "\n",
    "\t\t\t\t# Store target value and advantage\n",
    "\t\t\t\tself.target_values[agent, t] = target_value\n",
    "\t\t\t\tself.advantages[agent, t] = advantage\n",
    "\n",
    "\tdef __flatten_data(self):\n",
    "\t\t# Flatten all tensors that will be fetched\n",
    "\t\tself.states = self.states.view(-1, self.n_observations)\n",
    "\t\tself.actions = self.actions.view(-1)\n",
    "\t\tself.logprobs = self.logprobs.view(-1, self.n_actions)\n",
    "\t\tself.target_values = self.target_values.view(-1)\n",
    "\t\tself.advantages = self.advantages.view(-1)\n",
    "\n",
    "\tdef compute_advantages_and_target_values_and_flatten_data(self):\n",
    "\t\tself.__compute_advantages_and_target_values()\n",
    "\t\tself.__flatten_data()\n",
    "\n",
    "\tdef __len__(self):\n",
    "\t\treturn self.n_agents * self.n_timesteps\n",
    "\t\n",
    "\tdef __getitem__(self, i):\n",
    "\t\t# Don't use before calling compute_advantages_and_target_values and flatten_data\n",
    "\t\tstate = self.states[i]\n",
    "\t\taction = self.actions[i]\n",
    "\t\tlogprob = self.logprobs[i]\n",
    "\t\ttarget_value = self.target_values[i]\n",
    "\t\tadvantage = self.advantages[i]\n",
    "\n",
    "\t\treturn state, action, logprob, target_value, advantage"
   ]
  },
  {
   "cell_type": "markdown",
   "metadata": {},
   "source": [
    "### Loss function(s)"
   ]
  },
  {
   "cell_type": "code",
   "execution_count": 223,
   "metadata": {},
   "outputs": [],
   "source": [
    "def clipped_objective_fn(pred_logprob_batch, old_logprob_batch, action_batch, advantage_batch, epsilon):\n",
    "\t# Compute p_ratio, ratio of new and old probabilities\n",
    "    p_ratio = torch.exp(pred_logprob_batch - old_logprob_batch)\n",
    "\n",
    "    # Compute unclipped and clipped surrogate objectives\n",
    "    unclipped_surrogate_objective = p_ratio * advantage_batch\n",
    "    clipped_surrogate_objective = torch.clamp(p_ratio, 1. - epsilon, 1. + epsilon) * advantage_batch\n",
    "\n",
    "    # Compute elementwise minimum of two and return\n",
    "    clipped_objective = torch.mean(torch.min(unclipped_surrogate_objective, clipped_surrogate_objective))\n",
    "    return clipped_objective"
   ]
  },
  {
   "cell_type": "code",
   "execution_count": 410,
   "metadata": {},
   "outputs": [],
   "source": [
    "def value_loss_fn(pred_values, target_value_batch):\n",
    "    # Compute and return loss\n",
    "    smoothl1 = nn.SmoothL1Loss(reduction='mean')\n",
    "    loss = smoothl1(pred_values, target_value_batch)\n",
    "    return loss"
   ]
  },
  {
   "cell_type": "markdown",
   "metadata": {},
   "source": [
    "This is an unreadable mess add comments for the love of god"
   ]
  },
  {
   "cell_type": "code",
   "execution_count": 411,
   "metadata": {},
   "outputs": [],
   "source": [
    "def loss_fn(actor, critic, state_batch, action_batch, old_logprob_batch, target_value_batch, advantage_batch, epsilon, v):\n",
    "    # Get pred log probs and values\n",
    "    distribution_list = actor.distribution_list(state_batch)\n",
    "    pred_logprob_batch = []\n",
    "    for i in range(len(state_batch)):\n",
    "        distribution = distribution_list[i]\n",
    "        action = action_batch[i].unsqueeze(0)\n",
    "        pred_logprob = distribution.log_prob(action)\n",
    "        pred_logprob_batch.append(pred_logprob)\n",
    "    pred_logprob_batch = torch.stack(pred_logprob_batch)\n",
    "    pred_value_batch = critic(state_batch)\n",
    "\n",
    "    # Compute individual losses\n",
    "    clipped_objective = clipped_objective_fn(pred_logprob_batch, old_logprob_batch, action_batch, advantage_batch, epsilon)\n",
    "    value_loss = value_loss_fn(pred_value_batch, target_value_batch)\n",
    "\n",
    "    # Compute and return total loss\n",
    "    loss = - clipped_objective + v * value_loss\n",
    "    return loss"
   ]
  },
  {
   "cell_type": "markdown",
   "metadata": {},
   "source": [
    "### Train loop"
   ]
  },
  {
   "cell_type": "code",
   "execution_count": 472,
   "metadata": {},
   "outputs": [],
   "source": [
    "def train_loop(actor, critic, optimizer, batch_size, n_epochs, n_trainsteps, n_agents, n_timesteps, n_observations, n_actions, gamma, epsilon, v, max_grad_norm):\n",
    "\t# Initialize rewards and losses\n",
    "\trewards = []\n",
    "\tlosses = []\n",
    "\n",
    "\t# Initilize all environments\n",
    "\tenvs = []\n",
    "\tfor agent in range(n_agents):\n",
    "\t\tenv = pytorch_env(gym.make('HalfCheetah-v5'))\n",
    "\t\tstate, _ = env.reset()\n",
    "\t\tterminated, truncated = False, False\n",
    "\t\tenvs.append([env, state, terminated, truncated])\n",
    "\t\t\t\n",
    "\tfor _ in range(n_trainsteps):\n",
    "\t\t# Initialize dataset\n",
    "\t\tdataset = PPODataset(n_agents, n_timesteps, n_observations, n_actions, gamma)\n",
    "\n",
    "\t\t# Collect data\n",
    "\t\tfor agent in range(n_agents):\n",
    "\t\t\tenv = envs[agent][0]\n",
    "\t\t\tstate, terminated, truncated = envs[agent][1:]\n",
    "\n",
    "\t\t\tfor t in range(n_timesteps):\n",
    "\t\t\t\t# THIS SUCKS I SHOULD HAVE A BETTER WAY TO COMPUTE DISTRIBUTION AND ACTION\n",
    "\t\t\t\t# But it works or at least seems to work\n",
    "\t\t\t\t# Compute distributions predicted value\n",
    "\t\t\t\twith torch.no_grad():\n",
    "\t\t\t\t\tpred_value = critic(state)\n",
    "\t\t\t\t\tdistribution = actor.distribution_list([state])[0]\n",
    "\t\t\t\t\n",
    "\t\t\t\t# Select and perform action\n",
    "\t\t\t\taction = actor.select_action(state)\n",
    "\t\t\t\tnext_state, reward, terminated, truncated, _ = env.step(action.numpy())\n",
    "\n",
    "\t\t\t\t# Compute logprob\n",
    "\t\t\t\tlogprob = distribution.log_prob(action)\n",
    "\n",
    "\t\t\t\t# Store data\n",
    "\t\t\t\tdataset.add_step(agent, t, state, action, reward, logprob, pred_value)\n",
    "\n",
    "\t\t\t\t# If terminated reset env and mark end, otherwise update state\n",
    "\t\t\t\tif terminated or truncated:\n",
    "\t\t\t\t\tdataset.mark_episode_end(agent, t)\n",
    "\t\t\t\t\tstate, _ = env.reset()\n",
    "\t\t\t\t\tterminated, truncated = False, False\n",
    "\t\t\t\telse:\n",
    "\t\t\t\t\tstate = next_state\n",
    "\n",
    "\t\t# Compute target values and advantages and flatten data\n",
    "\t\tdataset.compute_advantages_and_target_values_and_flatten_data()\n",
    "\n",
    "\t\t# Create dataloader\n",
    "\t\tdataloader = DataLoader(\n",
    "\t\t\tdataset=dataset,\n",
    "\t\t\tbatch_size=batch_size,\n",
    "\t\t\tshuffle=True,\n",
    "\t\t)\n",
    "\n",
    "\t\t# Train model on policy for N_EPOCHS\n",
    "\t\tfor _ in range(n_epochs):\n",
    "\t\t\tfor state_batch, action_batch, logprob_batch, target_value_batch, advantage_batch in dataloader:\n",
    "\t\t\t\t# Compute loss and optimize\n",
    "\t\t\t\tloss = loss_fn(\n",
    "\t\t\t\t\tactor,\n",
    "\t\t\t\t\tcritic,\n",
    "\t\t\t\t\tstate_batch,\n",
    "\t\t\t\t\taction_batch,\n",
    "\t\t\t\t\tlogprob_batch,\n",
    "\t\t\t\t\ttarget_value_batch,\n",
    "\t\t\t\t\tadvantage_batch,\n",
    "\t\t\t\t\tepsilon,\n",
    "\t\t\t\t\tv,\n",
    "\t\t\t\t)\n",
    "\t\t\t\tloss.backward()\n",
    "\t\t\t\t# Clip gradients DISABLED FOR NOW\n",
    "\t\t\t\t#clip_grad_norm_(model.parameters(), max_grad_norm)\n",
    "\t\t\t\toptimizer.step()\n",
    "\t\t\t\toptimizer.zero_grad()\n",
    "\n",
    "\t\t\t\t# Append losses\n",
    "\t\t\t\tlosses.append(loss.item())\n",
    "\n",
    "\t\t# Test model, append reward and display\n",
    "\t\ttest_reward = test_model(actor, env)\n",
    "\t\trewards.append(test_reward)\n",
    "\t\tupdate_plot(rewards, \"Test rewards\", \"Reward\", \"Train loop\")\n",
    "\n",
    "\treturn rewards, losses"
   ]
  },
  {
   "cell_type": "markdown",
   "metadata": {},
   "source": [
    "### Train"
   ]
  },
  {
   "cell_type": "markdown",
   "metadata": {},
   "source": [
    "It seems to be working now, although EXTREMELY slowly. So next I should fix the speed. But I'm really glad it's working!"
   ]
  },
  {
   "cell_type": "code",
   "execution_count": 473,
   "metadata": {},
   "outputs": [],
   "source": [
    "actor = Actor(N_OBSERVATIONS, N_ACTIONS, layer_dim, std)\n",
    "critic = Critic(N_OBSERVATIONS, layer_dim)\n",
    "optimizer = optim.Adam(chain(actor.parameters(), critic.parameters()))"
   ]
  },
  {
   "cell_type": "code",
   "execution_count": 477,
   "metadata": {},
   "outputs": [
    {
     "ename": "RuntimeError",
     "evalue": "expand(torch.FloatTensor{[6]}, size=[]): the number of sizes provided (0) must be greater or equal to the number of dimensions in the tensor (1)",
     "output_type": "error",
     "traceback": [
      "\u001b[1;31m---------------------------------------------------------------------------\u001b[0m",
      "\u001b[1;31mRuntimeError\u001b[0m                              Traceback (most recent call last)",
      "Cell \u001b[1;32mIn[477], line 2\u001b[0m\n\u001b[0;32m      1\u001b[0m \u001b[38;5;28;01mif\u001b[39;00m TRAIN:\n\u001b[1;32m----> 2\u001b[0m     rewards, losses \u001b[38;5;241m=\u001b[39m \u001b[43mtrain_loop\u001b[49m\u001b[43m(\u001b[49m\n\u001b[0;32m      3\u001b[0m \u001b[43m        \u001b[49m\u001b[43mactor\u001b[49m\u001b[43m,\u001b[49m\n\u001b[0;32m      4\u001b[0m \u001b[43m        \u001b[49m\u001b[43mcritic\u001b[49m\u001b[43m,\u001b[49m\n\u001b[0;32m      5\u001b[0m \u001b[43m        \u001b[49m\u001b[43moptimizer\u001b[49m\u001b[43m,\u001b[49m\n\u001b[0;32m      6\u001b[0m \u001b[43m        \u001b[49m\u001b[43mbatch_size\u001b[49m\u001b[43m,\u001b[49m\n\u001b[0;32m      7\u001b[0m \u001b[43m        \u001b[49m\u001b[43mn_epochs\u001b[49m\u001b[43m,\u001b[49m\n\u001b[0;32m      8\u001b[0m \u001b[43m        \u001b[49m\u001b[43mn_trainsteps\u001b[49m\u001b[43m,\u001b[49m\n\u001b[0;32m      9\u001b[0m \u001b[43m        \u001b[49m\u001b[43mn_agents\u001b[49m\u001b[43m,\u001b[49m\n\u001b[0;32m     10\u001b[0m \u001b[43m        \u001b[49m\u001b[43mn_timesteps\u001b[49m\u001b[43m,\u001b[49m\n\u001b[0;32m     11\u001b[0m \u001b[43m        \u001b[49m\u001b[43mN_OBSERVATIONS\u001b[49m\u001b[43m,\u001b[49m\n\u001b[0;32m     12\u001b[0m \u001b[43m        \u001b[49m\u001b[43mN_ACTIONS\u001b[49m\u001b[43m,\u001b[49m\n\u001b[0;32m     13\u001b[0m \u001b[43m        \u001b[49m\u001b[43mgamma\u001b[49m\u001b[43m,\u001b[49m\n\u001b[0;32m     14\u001b[0m \u001b[43m        \u001b[49m\u001b[43mepsilon\u001b[49m\u001b[43m,\u001b[49m\n\u001b[0;32m     15\u001b[0m \u001b[43m        \u001b[49m\u001b[43mv\u001b[49m\u001b[43m,\u001b[49m\n\u001b[0;32m     16\u001b[0m \u001b[43m        \u001b[49m\u001b[43mmax_grad_norm\u001b[49m\u001b[43m,\u001b[49m\n\u001b[0;32m     17\u001b[0m \u001b[43m\t\u001b[49m\u001b[43m)\u001b[49m\n",
      "Cell \u001b[1;32mIn[472], line 39\u001b[0m, in \u001b[0;36mtrain_loop\u001b[1;34m(actor, critic, optimizer, batch_size, n_epochs, n_trainsteps, n_agents, n_timesteps, n_observations, n_actions, gamma, epsilon, v, max_grad_norm)\u001b[0m\n\u001b[0;32m     36\u001b[0m logprob \u001b[38;5;241m=\u001b[39m distribution\u001b[38;5;241m.\u001b[39mlog_prob(action)\n\u001b[0;32m     38\u001b[0m \u001b[38;5;66;03m# Store data\u001b[39;00m\n\u001b[1;32m---> 39\u001b[0m \u001b[43mdataset\u001b[49m\u001b[38;5;241;43m.\u001b[39;49m\u001b[43madd_step\u001b[49m\u001b[43m(\u001b[49m\u001b[43magent\u001b[49m\u001b[43m,\u001b[49m\u001b[43m \u001b[49m\u001b[43mt\u001b[49m\u001b[43m,\u001b[49m\u001b[43m \u001b[49m\u001b[43mstate\u001b[49m\u001b[43m,\u001b[49m\u001b[43m \u001b[49m\u001b[43maction\u001b[49m\u001b[43m,\u001b[49m\u001b[43m \u001b[49m\u001b[43mreward\u001b[49m\u001b[43m,\u001b[49m\u001b[43m \u001b[49m\u001b[43mlogprob\u001b[49m\u001b[43m,\u001b[49m\u001b[43m \u001b[49m\u001b[43mpred_value\u001b[49m\u001b[43m)\u001b[49m\n\u001b[0;32m     41\u001b[0m \u001b[38;5;66;03m# If terminated reset env and mark end, otherwise update state\u001b[39;00m\n\u001b[0;32m     42\u001b[0m \u001b[38;5;28;01mif\u001b[39;00m terminated \u001b[38;5;129;01mor\u001b[39;00m truncated:\n",
      "Cell \u001b[1;32mIn[470], line 24\u001b[0m, in \u001b[0;36mPPODataset.add_step\u001b[1;34m(self, agent, t, state, action, reward, logprob, pred_value)\u001b[0m\n\u001b[0;32m     22\u001b[0m \u001b[38;5;28;01mdef\u001b[39;00m \u001b[38;5;21madd_step\u001b[39m(\u001b[38;5;28mself\u001b[39m, agent, t, state, action, reward, logprob, pred_value):\n\u001b[0;32m     23\u001b[0m \t\u001b[38;5;28mself\u001b[39m\u001b[38;5;241m.\u001b[39mstates[agent, t] \u001b[38;5;241m=\u001b[39m state\n\u001b[1;32m---> 24\u001b[0m \t\u001b[38;5;28;43mself\u001b[39;49m\u001b[38;5;241;43m.\u001b[39;49m\u001b[43mactions\u001b[49m\u001b[43m[\u001b[49m\u001b[43magent\u001b[49m\u001b[43m,\u001b[49m\u001b[43m \u001b[49m\u001b[43mt\u001b[49m\u001b[43m]\u001b[49m \u001b[38;5;241m=\u001b[39m action\n\u001b[0;32m     25\u001b[0m \t\u001b[38;5;28mself\u001b[39m\u001b[38;5;241m.\u001b[39mrewards[agent, t] \u001b[38;5;241m=\u001b[39m reward\n\u001b[0;32m     26\u001b[0m \t\u001b[38;5;28mself\u001b[39m\u001b[38;5;241m.\u001b[39mlogprobs[agent, t] \u001b[38;5;241m=\u001b[39m logprob\n",
      "\u001b[1;31mRuntimeError\u001b[0m: expand(torch.FloatTensor{[6]}, size=[]): the number of sizes provided (0) must be greater or equal to the number of dimensions in the tensor (1)"
     ]
    }
   ],
   "source": [
    "if TRAIN:\n",
    "    rewards, losses = train_loop(\n",
    "        actor,\n",
    "        critic,\n",
    "        optimizer,\n",
    "        batch_size,\n",
    "        n_epochs,\n",
    "        n_trainsteps,\n",
    "        n_agents,\n",
    "        n_timesteps,\n",
    "        N_OBSERVATIONS,\n",
    "        N_ACTIONS,\n",
    "        gamma,\n",
    "        epsilon,\n",
    "        v,\n",
    "        max_grad_norm,\n",
    "\t)"
   ]
  },
  {
   "cell_type": "code",
   "execution_count": 455,
   "metadata": {},
   "outputs": [
    {
     "data": {
      "image/png": "[encoded data removed]",
      "text/plain": [
       "<Figure size 640x480 with 1 Axes>"
      ]
     },
     "metadata": {},
     "output_type": "display_data"
    }
   ],
   "source": [
    "plt.plot(losses, label=\"losses\")\n",
    "plt.legend()\n",
    "plt.grid(True)\n",
    "plt.show()"
   ]
  },
  {
   "cell_type": "code",
   "execution_count": 439,
   "metadata": {},
   "outputs": [
    {
     "data": {
      "text/plain": [
       "41.0"
      ]
     },
     "execution_count": 439,
     "metadata": {},
     "output_type": "execute_result"
    }
   ],
   "source": [
    "test_model(actor, pytorch_env(gym.make('HalfCheetah-v5', render_mode='human')))"
   ]
  }
 ],
 "metadata": {
  "kernelspec": {
   "display_name": "Python 3",
   "language": "python",
   "name": "python3"
  },
  "language_info": {
   "codemirror_mode": {
    "name": "ipython",
    "version": 3
   },
   "file_extension": ".py",
   "mimetype": "text/x-python",
   "name": "python",
   "nbconvert_exporter": "python",
   "pygments_lexer": "ipython3",
   "version": "3.12.6"
  }
 },
 "nbformat": 4,
 "nbformat_minor": 2
}
