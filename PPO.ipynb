{
 "cells": [
  {
   "cell_type": "markdown",
   "metadata": {},
   "source": [
    "# PPO"
   ]
  },
  {
   "cell_type": "markdown",
   "metadata": {},
   "source": [
    "TODO\n",
    "\n",
    "- Lunar Lander is BUGGED and I need to fix it the episode won't end even if the lander has achieved its goal."
   ]
  },
  {
   "cell_type": "markdown",
   "metadata": {},
   "source": [
    "## Imports and hyperparameters"
   ]
  },
  {
   "cell_type": "code",
   "execution_count": 61,
   "metadata": {},
   "outputs": [],
   "source": [
    "import torch\n",
    "from torch import nn, optim\n",
    "from torch.utils.data import Dataset, DataLoader\n",
    "from torch.nn.utils import clip_grad_norm_\n",
    "import numpy as np\n",
    "\n",
    "import random\n",
    "import math\n",
    "import time\n",
    "\n",
    "import matplotlib\n",
    "import matplotlib.pyplot as plt\n",
    "from IPython.display import clear_output\n",
    "\n",
    "\n",
    "import gymnasium as gym"
   ]
  },
  {
   "cell_type": "code",
   "execution_count": 136,
   "metadata": {},
   "outputs": [],
   "source": [
    "env = gym.make(\n",
    "    \"LunarLander-v2\",\n",
    "    continuous=False,\n",
    "    gravity=-10.0,\n",
    "    enable_wind=False,\n",
    "    wind_power=15.0,\n",
    "    turbulence_power=1.5,\n",
    ")\n",
    "\n",
    "N_OBSERVATIONS = env.observation_space.shape[0]\n",
    "N_ACTIONS = env.action_space.n\n",
    "\n",
    "# Hyperparameters\n",
    "N_AGENTS = 32\n",
    "T = 256\n",
    "GAMMA = 0.99\n",
    "EPSILON = 0.2\n",
    "H = 0.01 # Entropy constant\n",
    "V = 1.0 # Value constant\n",
    "LR = 1e-5\n",
    "BATCH_SIZE = 1024\n",
    "N_EPOCHS = 4\n",
    "N_TRAIN_LOOPS = 20\n",
    "MAX_GRAD_NORM = 0.5\n",
    "\n",
    "TEST = False\n",
    "TRAIN = True\n",
    "SAVE = False\n",
    "\n",
    "layer_dim = 128"
   ]
  },
  {
   "cell_type": "markdown",
   "metadata": {},
   "source": [
    "## Model and selecting actions"
   ]
  },
  {
   "cell_type": "markdown",
   "metadata": {},
   "source": [
    "### Model"
   ]
  },
  {
   "cell_type": "markdown",
   "metadata": {},
   "source": [
    "I'll use the same parameters for the policy and value networks. If this doesn't work well I can change it later."
   ]
  },
  {
   "cell_type": "code",
   "execution_count": 63,
   "metadata": {},
   "outputs": [],
   "source": [
    "class PolicyAndValueNetwork(nn.Module):\n",
    "    def __init__(self):\n",
    "        super().__init__()\n",
    "        self.shared_layers = nn.Sequential(\n",
    "            nn.Linear(N_OBSERVATIONS, layer_dim),\n",
    "            nn.ReLU()\n",
    "        )\n",
    "        self.policy_head = nn.Sequential(\n",
    "            nn.Linear(layer_dim, layer_dim),\n",
    "            nn.ReLU(),\n",
    "            nn.Linear(layer_dim, N_ACTIONS)\n",
    "        )\n",
    "        self.value_head = nn.Sequential(\n",
    "            nn.Linear(layer_dim, layer_dim),\n",
    "            nn.ReLU(),\n",
    "            nn.Linear(layer_dim, 1)\n",
    "        )\n",
    "\n",
    "    def forward(self, x):\n",
    "        shared_output = self.shared_layers(x)\n",
    "        action_logits = self.policy_head(shared_output)\n",
    "        value = self.value_head(shared_output)\n",
    "        return torch.cat([action_logits, value], dim=-1)"
   ]
  },
  {
   "cell_type": "markdown",
   "metadata": {},
   "source": [
    "### Select action"
   ]
  },
  {
   "cell_type": "markdown",
   "metadata": {},
   "source": [
    "Select action based on log probabilities."
   ]
  },
  {
   "cell_type": "code",
   "execution_count": 64,
   "metadata": {},
   "outputs": [],
   "source": [
    "def select_action(action_logits):\n",
    "    action_probs = torch.softmax(action_logits, dim=0)\n",
    "    action = torch.multinomial(action_probs, num_samples=1).item()\n",
    "    return action"
   ]
  },
  {
   "cell_type": "markdown",
   "metadata": {},
   "source": [
    "### Test"
   ]
  },
  {
   "cell_type": "code",
   "execution_count": 65,
   "metadata": {},
   "outputs": [],
   "source": [
    "if TEST:\n",
    "    test_env = gym.make('CartPole-v1', render_mode='human')\n",
    "    test_model = PolicyAndValueNetwork()\n",
    "\n",
    "    for _ in range(1):\n",
    "        state, info = test_env.reset()\n",
    "        terminated, truncated = False, False\n",
    "        while not (terminated or truncated):\n",
    "            tensor_state = torch.from_numpy(state)\n",
    "            logits = test_model(tensor_state)\n",
    "            action_logits = logits[:-1]\n",
    "            action = select_action(action_logits)\n",
    "            state, reward, terminated, truncated, info = test_env.step(action)\n",
    "\n",
    "    test_env.close()"
   ]
  },
  {
   "cell_type": "markdown",
   "metadata": {},
   "source": [
    "## Data"
   ]
  },
  {
   "cell_type": "markdown",
   "metadata": {},
   "source": [
    "### Data collector"
   ]
  },
  {
   "cell_type": "markdown",
   "metadata": {},
   "source": [
    "We first collect the data while marking episode ends when they happen."
   ]
  },
  {
   "cell_type": "code",
   "execution_count": 143,
   "metadata": {},
   "outputs": [],
   "source": [
    "class DataCollector():\n",
    "    def __init__(self):\n",
    "        self.states = [[] for _ in range(N_AGENTS)]\n",
    "        self.actions = [[] for _ in range(N_AGENTS)]\n",
    "        self.rewards = [[] for _ in range(N_AGENTS)]\n",
    "        self.pis = [[] for _ in range(N_AGENTS)]\n",
    "        self.episode_ends = [[] for _ in range(N_AGENTS)]\n",
    "\n",
    "    def add_step(self, agent_id, state, action, reward, pi):\n",
    "        self.states[agent_id].append(state)\n",
    "        self.actions[agent_id].append(action)\n",
    "        self.rewards[agent_id].append(reward)\n",
    "        self.pis[agent_id].append(pi)\n",
    "\n",
    "    def mark_episode_end(self, agent_id, timestep):\n",
    "        self.episode_ends[agent_id].append(timestep)\n",
    "\n",
    "    def fetch_data(self):\n",
    "        list_of_agent_states = [torch.stack(agent_states) for agent_states in self.states]\n",
    "        states = torch.stack([agent_states for agent_states in list_of_agent_states])\n",
    "        actions = self.actions\n",
    "        rewards = torch.tensor(self.rewards)\n",
    "        pis = torch.tensor(self.pis)\n",
    "        episode_ends = self.episode_ends\n",
    "\n",
    "        return states, actions, rewards, pis, episode_ends"
   ]
  },
  {
   "cell_type": "markdown",
   "metadata": {},
   "source": [
    "### Compute advantages and target values"
   ]
  },
  {
   "cell_type": "markdown",
   "metadata": {},
   "source": [
    "Next we'll need to compute advantages and target values. We'll start from the end of the data for each agent and move backwards. This makes the desired values easier to compute and to take into account episode ends.\n",
    "\n",
    "Gradients should be on here because I'll use the computations here to optimize the model.\n",
    "\n",
    "> If the trajectory terminated due to the maximal trajectory length T\n",
    "being reached, Vωold (st+n ) denotes the state value associated with state st+n as predicted by the state value\n",
    "network. Otherwise, Vωold (st+n ) is set to 0\n",
    "\n",
    "Instead of computing r_t + V(s_t+1) I'm using V(s_t). It's similar enough and shouldn't be that much of a problem."
   ]
  },
  {
   "cell_type": "code",
   "execution_count": 144,
   "metadata": {},
   "outputs": [],
   "source": [
    "def compute_advantages_and_target_values(model, states, rewards, episode_ends):\n",
    "    # We'll add them from last to first, then reverse list\n",
    "    reversed_target_values = [[] for _ in range(N_AGENTS)]\n",
    "    reversed_advantages = [[] for _ in range(N_AGENTS)]\n",
    "\n",
    "    with torch.no_grad():\n",
    "        for agent in range(N_AGENTS):\n",
    "            for i in range(T):\n",
    "                # Get step state and reward and compute predicted value\n",
    "                state = states[agent, -i-1]\n",
    "                reward = rewards[agent, -i-1]\n",
    "                predicted_value = model(state)[-1]\n",
    "\n",
    "                # If step is final\n",
    "                if i in episode_ends[agent]:\n",
    "                    target_value = reward\n",
    "                # If step is last but not final\n",
    "                elif i == 0:\n",
    "                    target_value = predicted_value\n",
    "                # non-last non-final step\n",
    "                else:\n",
    "                    # Get previous target value and compute \n",
    "                    previous_target_value = reversed_target_values[agent][-1]\n",
    "                    target_value = reward + GAMMA * previous_target_value\n",
    "                advantage = target_value - predicted_value\n",
    "\n",
    "                # Append target value and advantage\n",
    "                reversed_target_values[agent].append(target_value)\n",
    "                reversed_advantages[agent].append(advantage)\n",
    "\n",
    "    target_values = [torch.stack(agent_target_values[::-1]) for agent_target_values in reversed_target_values]\n",
    "    advantages = [torch.stack(agent_advantage[::-1]) for agent_advantage in reversed_advantages]\n",
    "\n",
    "    return target_values, advantages"
   ]
  },
  {
   "cell_type": "markdown",
   "metadata": {},
   "source": [
    "### PPO training data"
   ]
  },
  {
   "cell_type": "markdown",
   "metadata": {},
   "source": [
    "I need to modify the data so that I can sample random batches from it."
   ]
  },
  {
   "cell_type": "code",
   "execution_count": 145,
   "metadata": {},
   "outputs": [],
   "source": [
    "class PPODataset(Dataset):\n",
    "    def __init__(self, states, actions, pis, target_values, advantages):\n",
    "        # Reshape all into (N_AGENTS * T, whatever (possibly 0))\n",
    "        self.states = states.reshape(N_AGENTS * T, -1)\n",
    "        self.actions = [action for agent in actions for action in agent]\n",
    "        self.pis = pis.reshape(N_AGENTS * T)\n",
    "        self.target_values = torch.cat(target_values)\n",
    "        self.advantages = torch.cat(advantages)\n",
    "        \n",
    "    def __len__(self):\n",
    "        return len(self.actions)\n",
    "    \n",
    "    def __getitem__(self, i):\n",
    "        state = self.states[i]\n",
    "        action = self.actions[i]\n",
    "        pi = self.pis[i]\n",
    "        target_value = self.target_values[i]\n",
    "        advantage = self.advantages[i]\n",
    "\n",
    "        return state, action, pi, target_value, advantage"
   ]
  },
  {
   "cell_type": "markdown",
   "metadata": {},
   "source": [
    "## Training"
   ]
  },
  {
   "cell_type": "markdown",
   "metadata": {},
   "source": [
    "### Loss function(s)"
   ]
  },
  {
   "cell_type": "markdown",
   "metadata": {},
   "source": [
    "We have a 3-in-1 loss function. We want to minimize\n",
    "\n",
    "- -L_CLIP  + V * L_V - H * L_H\n",
    "\n",
    "I'll write each of the separate functions then combine them in one that will be backpropagated."
   ]
  },
  {
   "cell_type": "code",
   "execution_count": 69,
   "metadata": {},
   "outputs": [],
   "source": [
    "def clipped_objective_fn(log_probs, pi_batch, action_batch, advantage_batch):\n",
    "    # Compute pi_new\n",
    "    pi_new = log_probs[torch.arange(len(action_batch)), action_batch]\n",
    "\n",
    "    # Compute p_ratio, ratio of new and old probabilities\n",
    "    # note that it's unnormalized\n",
    "    p_ratio = torch.exp(pi_new - pi_batch)\n",
    "\n",
    "    # Compute unclipped and clipped surrogate objectives\n",
    "    unclipped_surrogate_objective = p_ratio * advantage_batch\n",
    "    clipped_surrogate_objective = torch.clamp(p_ratio, 1. - EPSILON, 1. + EPSILON) * advantage_batch\n",
    "\n",
    "    # Compute elementwise minimum of two and return\n",
    "    clipped_objective = torch.mean(torch.min(unclipped_surrogate_objective, clipped_surrogate_objective))\n",
    "    return clipped_objective"
   ]
  },
  {
   "cell_type": "code",
   "execution_count": 70,
   "metadata": {},
   "outputs": [],
   "source": [
    "def entropy_bonus_fn(log_probs):\n",
    "    # Compute probabilities\n",
    "    probs = torch.softmax(log_probs, dim=-1)\n",
    "\n",
    "    # Compute and return entropy\n",
    "    entropy = -torch.mean(torch.sum(probs * log_probs, dim=-1))\n",
    "    return entropy"
   ]
  },
  {
   "cell_type": "code",
   "execution_count": 71,
   "metadata": {},
   "outputs": [],
   "source": [
    "def value_loss_fn(pred_values, target_value_batch):\n",
    "    # Compute and return loss\n",
    "    smoothl1 = nn.SmoothL1Loss(reduction='mean')\n",
    "    loss = smoothl1(pred_values, target_value_batch)\n",
    "    return loss"
   ]
  },
  {
   "cell_type": "code",
   "execution_count": 85,
   "metadata": {},
   "outputs": [],
   "source": [
    "def loss_fn(model, state_batch, action_batch, pi_batch, target_value_batch, advantage_batch):\n",
    "    # Get pred log probs and values\n",
    "    output = model(state_batch)\n",
    "    log_probs, pred_values = torch.log_softmax(output[:, :-1], dim=-1), output[:, -1]\n",
    "\n",
    "    # Compute individual losses\n",
    "    clipped_objective = clipped_objective_fn(log_probs, pi_batch, action_batch, advantage_batch)\n",
    "    value_loss = value_loss_fn(pred_values, target_value_batch)\n",
    "    entropy_bonus = entropy_bonus_fn(log_probs)\n",
    "\n",
    "    # Compute and return total loss\n",
    "    loss = -clipped_objective + V * value_loss - H * entropy_bonus\n",
    "    return loss, clipped_objective.item(), V * value_loss.item(), H * entropy_bonus.item()"
   ]
  },
  {
   "cell_type": "markdown",
   "metadata": {},
   "source": [
    "### Train loop"
   ]
  },
  {
   "cell_type": "code",
   "execution_count": 73,
   "metadata": {},
   "outputs": [],
   "source": [
    "model = PolicyAndValueNetwork()\n",
    "optimizer = optim.Adam(model.parameters())"
   ]
  },
  {
   "cell_type": "code",
   "execution_count": 146,
   "metadata": {},
   "outputs": [],
   "source": [
    "def update_plot(data, title=\"\", xlabel=\"\", ylabel=\"\", grid=True, sleep=0.01):\n",
    "    clear_output(wait=True)\n",
    "    plt.plot(data)\n",
    "    plt.title(title)\n",
    "    plt.xlabel(xlabel)\n",
    "    plt.ylabel(ylabel)\n",
    "    plt.grid(grid)\n",
    "    plt.show()\n",
    "    time.sleep(sleep)"
   ]
  },
  {
   "cell_type": "code",
   "execution_count": 147,
   "metadata": {},
   "outputs": [],
   "source": [
    "def train_loop(model, loss_fn, optimizer):\n",
    "    losses = []\n",
    "    avg_rewards = []\n",
    "    for i in range(N_TRAIN_LOOPS):\n",
    "        data_collector = DataCollector()\n",
    "\n",
    "        # Initilize all environments\n",
    "        envs = [\n",
    "            [gym.make(\n",
    "                \"LunarLander-v2\",\n",
    "                continuous=False,\n",
    "                gravity=-10.0,\n",
    "                enable_wind=False,\n",
    "                wind_power=15.0,\n",
    "                turbulence_power=1.5,\n",
    "            )] for _ in range(N_AGENTS)\n",
    "        ]\n",
    "        for agent_env in envs:\n",
    "            state, _ = agent_env[0].reset()\n",
    "            terminated, truncated = False, False\n",
    "            agent_env += [state, terminated, truncated]\n",
    "\n",
    "        with torch.no_grad():\n",
    "            for agent in range(N_AGENTS):\n",
    "                env = envs[agent][0]\n",
    "                state, terminated, truncated = envs[agent][1:]\n",
    "\n",
    "                for step in range(T):\n",
    "                    # Compute and divide model output\n",
    "                    state = torch.from_numpy(state)\n",
    "                    output = model(state)\n",
    "                    action_logits = output[:-1]\n",
    "\n",
    "                    # Select and perform action\n",
    "                    action = select_action(action_logits)\n",
    "                    next_state, reward, terminated, truncated, _ = env.step(action)\n",
    "\n",
    "                    # Compute pi\n",
    "                    pi = torch.log_softmax(action_logits, dim=-1)[action]\n",
    "\n",
    "                    # Store data\n",
    "                    data_collector.add_step(agent, state, action, reward, pi)\n",
    "\n",
    "                    # If terminated reset env and mark end, otherwise update state\n",
    "                    if terminated or truncated:\n",
    "                        data_collector.mark_episode_end(agent, step)\n",
    "                        state, _ = env.reset()\n",
    "                        terminated, truncated = False, False\n",
    "                    else:\n",
    "                        state = next_state\n",
    "\n",
    "        # Fetch data from data collector\n",
    "        states, actions, rewards, pis, episode_ends = data_collector.fetch_data()\n",
    "\n",
    "        # Compute average rewards\n",
    "        avg_reward = rewards.sum(dim=-1).mean().item()\n",
    "        avg_rewards.append(avg_reward)\n",
    "        update_plot(avg_rewards, title=\"Average Rewards\")\n",
    "\n",
    "        # Compute advantages and target values\n",
    "        target_values, advantages = compute_advantages_and_target_values(\n",
    "            model=model,\n",
    "            states=states,\n",
    "            rewards=rewards,\n",
    "            episode_ends=episode_ends,\n",
    "        )\n",
    "\n",
    "        # Add everything to dataset and create dataloader\n",
    "        dataset = PPODataset(states, actions, pis, target_values, advantages)\n",
    "        dataloader = DataLoader(\n",
    "            dataset=dataset,\n",
    "            batch_size=BATCH_SIZE,\n",
    "            shuffle=True\n",
    "        )\n",
    "\n",
    "        # Train model on policy for N_EPOCHS\n",
    "        for _ in range(N_EPOCHS):\n",
    "            for state_batch, action_batch, pi_batch, target_value_batch, advantage_batch in dataloader:\n",
    "                # Compute loss and optimize\n",
    "                loss, clipped_objective, value_loss, entropy_bonus = loss_fn(\n",
    "                    model,\n",
    "                    state_batch,\n",
    "                    action_batch,\n",
    "                    pi_batch,\n",
    "                    target_value_batch,\n",
    "                    advantage_batch\n",
    "                )\n",
    "                loss.backward()\n",
    "                # Clip gradients\n",
    "                clip_grad_norm_(model.parameters(), MAX_GRAD_NORM)\n",
    "                optimizer.step()\n",
    "                optimizer.zero_grad()\n",
    "\n",
    "                # Append losses\n",
    "                losses.append(loss.item())\n",
    "\n",
    "    return losses, avg_rewards"
   ]
  },
  {
   "cell_type": "code",
   "execution_count": 148,
   "metadata": {},
   "outputs": [
    {
     "data": {
      "image/png": "[encoded data removed]",
      "text/plain": [
       "<Figure size 640x480 with 1 Axes>"
      ]
     },
     "metadata": {},
     "output_type": "display_data"
    }
   ],
   "source": [
    "if TRAIN:\n",
    "    losses, avg_rewards = train_loop(model, loss_fn, optimizer)"
   ]
  },
  {
   "cell_type": "code",
   "execution_count": 149,
   "metadata": {},
   "outputs": [
    {
     "data": {
      "image/png": "[encoded data removed]",
      "text/plain": [
       "<Figure size 640x480 with 1 Axes>"
      ]
     },
     "metadata": {},
     "output_type": "display_data"
    }
   ],
   "source": [
    "plt.plot(losses, label=\"losses\")\n",
    "plt.legend()\n",
    "plt.grid(True)\n",
    "plt.show()"
   ]
  },
  {
   "cell_type": "code",
   "execution_count": 156,
   "metadata": {},
   "outputs": [
    {
     "name": "stdout",
     "output_type": "stream",
     "text": [
      "275.9916481398136\n"
     ]
    }
   ],
   "source": [
    "test_env = gym.make(\n",
    "    \"LunarLander-v2\",\n",
    "    continuous=False,\n",
    "    gravity=-10.0,\n",
    "    enable_wind=False,\n",
    "    wind_power=15.0,\n",
    "    turbulence_power=1.5,\n",
    "    render_mode='human'\n",
    ")\n",
    "test_model = model\n",
    "n = 1\n",
    "total_rewards = 0.\n",
    "for _ in range(n):\n",
    "    state, info = test_env.reset()\n",
    "    terminated, truncated = False, False\n",
    "    while not (terminated or truncated):\n",
    "        tensor_state = torch.from_numpy(state)\n",
    "        logits = test_model(tensor_state)\n",
    "        action_logits = logits[:-1]\n",
    "        action = select_action(action_logits)\n",
    "        state, reward, terminated, truncated, info = test_env.step(action)\n",
    "        total_rewards += reward\n",
    "\n",
    "print(total_rewards / n)\n",
    "test_env.close()"
   ]
  },
  {
   "cell_type": "markdown",
   "metadata": {},
   "source": [
    "## Save model"
   ]
  },
  {
   "cell_type": "markdown",
   "metadata": {},
   "source": [
    "IT'S PERFECT LETS SAVE IT"
   ]
  },
  {
   "cell_type": "code",
   "execution_count": 157,
   "metadata": {},
   "outputs": [],
   "source": [
    "if SAVE:\n",
    "    torch.save(model.state_dict(), 'best_lunar_lander.pth')"
   ]
  }
 ],
 "metadata": {
  "kernelspec": {
   "display_name": "Python 3",
   "language": "python",
   "name": "python3"
  },
  "language_info": {
   "codemirror_mode": {
    "name": "ipython",
    "version": 3
   },
   "file_extension": ".py",
   "mimetype": "text/x-python",
   "name": "python",
   "nbconvert_exporter": "python",
   "pygments_lexer": "ipython3",
   "version": "3.10.12"
  }
 },
 "nbformat": 4,
 "nbformat_minor": 2
}
