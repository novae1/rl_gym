{
  "cells": [
    {
      "cell_type": "markdown",
      "metadata": {
        "id": "view-in-github",
        "colab_type": "text"
      },
      "source": [
        "<a href=\"https://colab.research.google.com/github/danielsadoc/RL_jack_car_rental/blob/main/blackwell_jack_rental.ipynb\" target=\"_parent\"><img src=\"https://colab.research.google.com/assets/colab-badge.svg\" alt=\"Open In Colab\"/></a>"
      ]
    },
    {
      "cell_type": "markdown",
      "metadata": {
        "id": "C09wohRaTsHd"
      },
      "source": [
        "# Jack's Car Rental — Discounted vs Average Reward (Blackwell Optimality)\n",
        "\n",
        "This notebook illustrates the **Blackwell optimality theorem** through the Jack’s Car Rental MDP:\n",
        "\n",
        "- Solve **average-reward MDP** via occupancy measure LP\n",
        "- Solve **discounted MDP** for several \\( \\gamma \\uparrow 1 \\)\n",
        "- Compare optimal policies \\( \\pi^*_{\\gamma} \\) and \\( \\pi^{\\text{avg}} \\)\n",
        "- Identify empirical Blackwell region."
      ],
      "id": "C09wohRaTsHd"
    },
    {
      "cell_type": "code",
      "execution_count": 1,
      "metadata": {
        "id": "NdoWKOKATsHf"
      },
      "outputs": [],
      "source": [
        "import math\n",
        "import numpy as np\n",
        "from itertools import product\n",
        "from scipy.optimize import linprog\n",
        "import matplotlib.pyplot as plt"
      ],
      "id": "NdoWKOKATsHf"
    },
    {
      "cell_type": "markdown",
      "metadata": {
        "id": "ouNgXiXUTsHg"
      },
      "source": [
        "## 1. Problem parameters and state space"
      ],
      "id": "ouNgXiXUTsHg"
    },
    {
      "cell_type": "code",
      "execution_count": 2,
      "metadata": {
        "id": "-7eN83nqTsHg"
      },
      "outputs": [],
      "source": [
        "MAX_CARS = 20\n",
        "A_MAX_MOVE = 5\n",
        "ACTIONS_ALL = np.arange(-A_MAX_MOVE, A_MAX_MOVE+1)\n",
        "\n",
        "LAMBDA_X1, LAMBDA_Y1 = 3.0, 3.0\n",
        "LAMBDA_X2, LAMBDA_Y2 = 4.0, 2.0\n",
        "RENT_REWARD = 10.0\n",
        "MOVE_COST = 2.0\n",
        "\n",
        "STATES = [(n1, n2) for n1 in range(MAX_CARS+1) for n2 in range(MAX_CARS+1)]\n",
        "S_index = {s: i for i, s in enumerate(STATES)}\n",
        "NUM_STATES = len(STATES)"
      ],
      "id": "-7eN83nqTsHg"
    },
    {
      "cell_type": "markdown",
      "metadata": {
        "id": "Vf6CknOTTsHh"
      },
      "source": [
        "## 2. Feasible actions and Poisson helpers"
      ],
      "id": "Vf6CknOTTsHh"
    },
    {
      "cell_type": "code",
      "execution_count": 3,
      "metadata": {
        "id": "QIxKTZbeTsHh"
      },
      "outputs": [],
      "source": [
        "def feasible_actions(n1, n2):\n",
        "    feas = []\n",
        "    for a in ACTIONS_ALL:\n",
        "        if a >= 0:\n",
        "            if n1 >= a and n2 + a <= MAX_CARS:\n",
        "                feas.append(a)\n",
        "        else:\n",
        "            if n2 >= -a and n1 - a <= MAX_CARS:\n",
        "                feas.append(a)\n",
        "    return feas\n",
        "\n",
        "FEAS_ACTIONS = [feasible_actions(n1, n2) for (n1, n2) in STATES]\n",
        "\n",
        "def poisson_pmf(lam, k):\n",
        "    if k < 0:\n",
        "        return 0.0\n",
        "    return math.exp(-lam) * (lam**k) / math.factorial(k)\n",
        "\n",
        "def poisson_cdf(lam, k):\n",
        "    return sum(poisson_pmf(lam, i) for i in range(k+1))\n",
        "\n",
        "def poisson_tail_prob(lam, k):\n",
        "    if k <= 0:\n",
        "        return 1.0\n",
        "    return 1.0 - poisson_cdf(lam, k-1)"
      ],
      "id": "QIxKTZbeTsHh"
    },
    {
      "cell_type": "markdown",
      "metadata": {
        "id": "lfySJKeMTsHh"
      },
      "source": [
        "## 3. Transition and reward model"
      ],
      "id": "lfySJKeMTsHh"
    },
    {
      "cell_type": "code",
      "execution_count": 4,
      "metadata": {
        "id": "b5Svdnj_TsHh"
      },
      "outputs": [],
      "source": [
        "RENTAL_CACHE = {}\n",
        "NEXTCOUNT_CACHE = {}\n",
        "\n",
        "def rental_probabilities(c, lam_x):\n",
        "    probs = np.zeros(c+1)\n",
        "    if c == 0:\n",
        "        probs[0] = 1.0\n",
        "        return probs\n",
        "    for r in range(c):\n",
        "        probs[r] = poisson_pmf(lam_x, r)\n",
        "    probs[c] = poisson_tail_prob(lam_x, c)\n",
        "    return probs / probs.sum()\n",
        "\n",
        "def next_count_distribution_given_rentals(c, r, lam_y):\n",
        "    remaining = c - r\n",
        "    probs = np.zeros(MAX_CARS+1)\n",
        "    for nprime in range(MAX_CARS):\n",
        "        y = nprime - remaining\n",
        "        if y >= 0:\n",
        "            probs[nprime] = poisson_pmf(lam_y, y)\n",
        "    tail_needed = MAX_CARS - remaining\n",
        "    probs[MAX_CARS] = poisson_tail_prob(lam_y, max(tail_needed, 0))\n",
        "    return probs / probs.sum()\n",
        "\n",
        "def get_rental_probs(c, lam_x):\n",
        "    key = (c, lam_x)\n",
        "    if key not in RENTAL_CACHE:\n",
        "        RENTAL_CACHE[key] = rental_probabilities(c, lam_x)\n",
        "    return RENTAL_CACHE[key]\n",
        "\n",
        "def get_nextcount_probs(c, r, lam_y):\n",
        "    key = (c, r, lam_y)\n",
        "    if key not in NEXTCOUNT_CACHE:\n",
        "        NEXTCOUNT_CACHE[key] = next_count_distribution_given_rentals(c, r, lam_y)\n",
        "    return NEXTCOUNT_CACHE[key]\n",
        "\n",
        "def post_move_counts(n1, n2, a):\n",
        "    c1 = n1 - a\n",
        "    c2 = n2 + a\n",
        "    return c1, c2\n",
        "\n",
        "def expected_rentals_for_lot(c, lam_x):\n",
        "    probs = get_rental_probs(c, lam_x)\n",
        "    support = np.arange(len(probs))\n",
        "    return (support * probs).sum()\n",
        "\n",
        "def transition_and_reward_for_state_action(n1, n2, a):\n",
        "    c1, c2 = post_move_counts(n1, n2, a)\n",
        "    e_r1 = expected_rentals_for_lot(c1, LAMBDA_X1)\n",
        "    e_r2 = expected_rentals_for_lot(c2, LAMBDA_X2)\n",
        "    reward = RENT_REWARD * (e_r1 + e_r2) - MOVE_COST * abs(a)\n",
        "    r1_probs = get_rental_probs(c1, LAMBDA_X1)\n",
        "    r2_probs = get_rental_probs(c2, LAMBDA_X2)\n",
        "    n1prime_given_r1 = [get_nextcount_probs(c1, r1, LAMBDA_Y1) for r1 in range(c1+1)]\n",
        "    n2prime_given_r2 = [get_nextcount_probs(c2, r2, LAMBDA_Y2) for r2 in range(c2+1)]\n",
        "    P_row = np.zeros(NUM_STATES)\n",
        "    for r1 in range(c1+1):\n",
        "        for r2 in range(c2+1):\n",
        "            p_r = r1_probs[r1] * r2_probs[r2]\n",
        "            joint = np.outer(n1prime_given_r1[r1], n2prime_given_r2[r2]) * p_r\n",
        "            for n1p in range(MAX_CARS+1):\n",
        "                base = n1p * (MAX_CARS+1)\n",
        "                P_row[base:base + (MAX_CARS+1)] += joint[n1p, :]\n",
        "    return P_row, reward"
      ],
      "id": "b5Svdnj_TsHh"
    },
    {
      "cell_type": "markdown",
      "metadata": {
        "id": "UkhohzPLTsHi"
      },
      "source": [
        "## 4. Average-reward LP (occupancy measures)"
      ],
      "id": "UkhohzPLTsHi"
    },
    {
      "cell_type": "code",
      "execution_count": 5,
      "metadata": {
        "colab": {
          "base_uri": "https://localhost:8080/",
          "height": 489
        },
        "id": "3vlHoLKqTsHi",
        "outputId": "5ca770a0-9928-4fd4-89ae-42b7adb31cd6"
      },
      "outputs": [
        {
          "output_type": "stream",
          "name": "stdout",
          "text": [
            "Optimal average reward per day: 49.5703\n"
          ]
        },
        {
          "output_type": "display_data",
          "data": {
            "text/plain": [
              "<Figure size 640x480 with 2 Axes>"
            ],
            "image/png": "[encoded data removed]"
          },
          "metadata": {}
        }
      ],
      "source": [
        "pairs = []\n",
        "R_vec = []\n",
        "P_dense_rows = []\n",
        "\n",
        "for s_idx, (n1, n2) in enumerate(STATES):\n",
        "    for a in FEAS_ACTIONS[s_idx]:\n",
        "        P_row, R_sa = transition_and_reward_for_state_action(n1, n2, a)\n",
        "        pairs.append((s_idx, a))\n",
        "        R_vec.append(R_sa)\n",
        "        P_dense_rows.append(P_row)\n",
        "\n",
        "K = len(pairs)\n",
        "R_vec = np.array(R_vec)\n",
        "P_dense = np.vstack(P_dense_rows)\n",
        "\n",
        "A_eq = np.zeros((NUM_STATES+1, K))\n",
        "b_eq = np.zeros(NUM_STATES+1)\n",
        "for k, (s_idx, a) in enumerate(pairs):\n",
        "    A_eq[s_idx, k] += 1.0\n",
        "    A_eq[:NUM_STATES, k] -= P_dense[k, :]\n",
        "A_eq[NUM_STATES, :] = 1.0\n",
        "b_eq[NUM_STATES] = 1.0\n",
        "\n",
        "res = linprog(-R_vec, A_eq=A_eq, b_eq=b_eq, bounds=[(0,None)]*K, method='highs')\n",
        "z = res.x\n",
        "avg_reward = R_vec @ z\n",
        "print(f\"Optimal average reward per day: {avg_reward:.4f}\")\n",
        "\n",
        "pi = {s_idx: {} for s_idx in range(NUM_STATES)}\n",
        "z_state = np.zeros(NUM_STATES)\n",
        "for k, (s_idx, a) in enumerate(pairs):\n",
        "    pi[s_idx][a] = z[k]\n",
        "    z_state[s_idx] += z[k]\n",
        "avg_policy_actions = np.zeros(NUM_STATES, dtype=int)\n",
        "for s_idx in range(NUM_STATES):\n",
        "    if z_state[s_idx] > 0:\n",
        "        avg_policy_actions[s_idx] = max(pi[s_idx].items(), key=lambda kv: kv[1])[0]\n",
        "    else:\n",
        "        feas = FEAS_ACTIONS[s_idx]\n",
        "        avg_policy_actions[s_idx] = min(feas, key=abs) if feas else 0\n",
        "\n",
        "plt.imshow(avg_policy_actions.reshape((MAX_CARS+1, MAX_CARS+1)), origin='lower')\n",
        "plt.title('Average Reward Policy (argmax z)')\n",
        "plt.xlabel('N2'); plt.ylabel('N1'); plt.colorbar(); plt.show()"
      ],
      "id": "3vlHoLKqTsHi"
    },
    {
      "cell_type": "markdown",
      "metadata": {
        "id": "oRjP-r_zTsHi"
      },
      "source": [
        "## 5. Discounted LP for a ladder of $\\gamma$ values"
      ],
      "id": "oRjP-r_zTsHi"
    },
    {
      "cell_type": "code",
      "execution_count": 6,
      "metadata": {
        "colab": {
          "base_uri": "https://localhost:8080/"
        },
        "id": "qbNzgXJHTsHi",
        "outputId": "7adfd91d-0215-4986-fd75-aa58f4ba0798"
      },
      "outputs": [
        {
          "output_type": "stream",
          "name": "stdout",
          "text": [
            "γ=0.95: match rate = 65.3%\n",
            "γ=0.97: match rate = 75.7%\n",
            "γ=0.98: match rate = 80.7%\n",
            "γ=0.99: match rate = 86.6%\n",
            "γ=0.995: match rate = 92.5%\n",
            "γ=0.997: match rate = 96.4%\n",
            "γ=0.999: match rate = 100.0%\n"
          ]
        }
      ],
      "source": [
        "def solve_discounted_lp_and_policy(gamma):\n",
        "    A = np.zeros((K, NUM_STATES))\n",
        "    b = np.zeros(K)\n",
        "    for k, (s_idx, a) in enumerate(pairs):\n",
        "        A[k, :] = gamma * P_dense[k, :]\n",
        "        A[k, s_idx] -= 1.0\n",
        "        b[k] = -R_vec[k]\n",
        "    res = linprog(np.ones(NUM_STATES), A_ub=A, b_ub=b, bounds=[(None,None)]*NUM_STATES, method='highs')\n",
        "    v = res.x\n",
        "    policy = np.zeros(NUM_STATES, dtype=int)\n",
        "    for s_idx, (n1, n2) in enumerate(STATES):\n",
        "        best_q, best_a = -1e300, 0\n",
        "        for a in FEAS_ACTIONS[s_idx]:\n",
        "            k = next(k for k,(ss,aa) in enumerate(pairs) if ss==s_idx and aa==a)\n",
        "            q = R_vec[k] + gamma * (P_dense[k,:] @ v)\n",
        "            if q > best_q:\n",
        "                best_q, best_a = q, a\n",
        "        policy[s_idx] = best_a\n",
        "    return policy\n",
        "\n",
        "gammas = [0.95, 0.97, 0.98, 0.99, 0.995, 0.997, 0.999]\n",
        "policies_disc = {g: solve_discounted_lp_and_policy(g) for g in gammas}\n",
        "rates = {g: np.mean(policies_disc[g]==avg_policy_actions) for g in gammas}\n",
        "for g in gammas:\n",
        "    print(f\"γ={g}: match rate = {rates[g]*100:.1f}%\")"
      ],
      "id": "qbNzgXJHTsHi"
    },
    {
      "cell_type": "markdown",
      "metadata": {
        "id": "6IL5pj0NTsHi"
      },
      "source": [
        "## 6. Visualization of Blackwell phenomenon"
      ],
      "id": "6IL5pj0NTsHi"
    },
    {
      "cell_type": "code",
      "execution_count": 7,
      "metadata": {
        "colab": {
          "base_uri": "https://localhost:8080/",
          "height": 120
        },
        "id": "px5Sk3ZLTsHj",
        "outputId": "c24758cb-ed6e-42ed-987b-8b62d663850e"
      },
      "outputs": [
        {
          "output_type": "display_data",
          "data": {
            "text/plain": [
              "<Figure size 2400x500 with 8 Axes>"
            ],
            "image/png": "[encoded data removed]"
          },
          "metadata": {}
        }
      ],
      "source": [
        "cols = len(gammas)+1\n",
        "plt.figure(figsize=(3*cols,5))\n",
        "ax = plt.subplot(1,cols,1)\n",
        "ax.imshow(avg_policy_actions.reshape((MAX_CARS+1, MAX_CARS+1)), origin='lower')\n",
        "ax.set_title('Average')\n",
        "\n",
        "for j,g in enumerate(gammas, start=2):\n",
        "    ax = plt.subplot(1,cols,j)\n",
        "    ax.imshow(policies_disc[g].reshape((MAX_CARS+1, MAX_CARS+1)), origin='lower')\n",
        "    ax.set_title(f\"γ={g}\")\n",
        "plt.tight_layout(); plt.show()"
      ],
      "id": "px5Sk3ZLTsHj"
    }
  ],
  "metadata": {
    "kernelspec": {
      "display_name": "Python 3",
      "language": "python",
      "name": "python3"
    },
    "language_info": {
      "codemirror_mode": {
        "name": "ipython",
        "version": 3
      },
      "file_extension": ".py",
      "mimetype": "text/x-python",
      "name": "python",
      "nbconvert_exporter": "python",
      "pygments_lexer": "ipython3",
      "version": "3.11"
    },
    "colab": {
      "provenance": [],
      "include_colab_link": true
    }
  },
  "nbformat": 4,
  "nbformat_minor": 5
}